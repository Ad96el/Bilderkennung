{
 "cells": [
  {
   "cell_type": "markdown",
   "execution_count": null,
   "metadata": {},
   "outputs": [],
   "source": [
    "# Image Processing SS 20 - Assignment - 01\n",
    "\n",
    "### Deadline is 29.4.2020 at 12:00\n",
    "\n",
    "Please solve the assignments together with a partner.\n",
    "I will run every notebook. Make sure the code runs without errors, when clicking `Kernel` -> `Restart & Run All`.\n"
   ]
  },
  {
   "cell_type": "markdown",
   "execution_count": null,
   "metadata": {},
   "outputs": [],
   "source": [
    "## Introduction to Python / Numpy\n",
    "\n",
    "* [Learn Python in 15 minutes](https://learnxinyminutes.com/docs/python3/): We will use Python 3.\n",
    "* [Numpy for Matlab Users](https://docs.scipy.org/doc/numpy/user/numpy-for-matlab-users.html#general-purpose-equivalents)\n",
    "* [Numpy Quickstart](https://docs.scipy.org/doc/numpy/user/quickstart.html)\n",
    "\n",
    "## Libraries\n",
    "\n",
    "We will use the following libraries:\n",
    "\n",
    "* matplotlib\n",
    "* numpy\n",
    "* scipy\n",
    "* skimage\n"
   ]
  },
  {
   "cell_type": "markdown",
   "execution_count": null,
   "metadata": {},
   "outputs": [],
   "source": [
    "# Exercise 0 - Setup Development Enviroment - [1 Point]\n",
    "\n",
    "Find a partner, follow the steps in the [README](https://github.com/BildverarbeitungSS20/Hausaufgaben/blob/master/README.md) and paste a link to your repository and your names into the KVV assignment box. Also include your names inside your solution.\n",
    "You do not need to upload any files to MyCampus Whiteboard. I will clone your repository."
   ]
  },
  {
   "cell_type": "code",
   "execution_count": null,
   "metadata": {},
   "outputs": [],
   "source": [
    "# display the plots inside the notebook\n",
    "%matplotlib inline"
   ]
  },
  {
   "cell_type": "code",
   "execution_count": null,
   "metadata": {},
   "outputs": [],
   "source": [
    "import numpy as np\n",
    "import matplotlib.pyplot as plt\n",
    "import pylab\n",
    "import math\n",
    "pylab.rcParams['figure.figsize'] = (12, 12)   # This makes the plot bigger"
   ]
  },
  {
   "cell_type": "markdown",
   "execution_count": null,
   "metadata": {},
   "outputs": [],
   "source": [
    "The [skimage](http://scikit-image.org/) library comes with multiple useful test images.  Let's start with an image of an astronaut. "
   ]
  },
  {
   "cell_type": "code",
   "execution_count": null,
   "metadata": {},
   "outputs": [],
   "source": [
    "from skimage.data import astronaut"
   ]
  },
  {
   "cell_type": "code",
   "execution_count": null,
   "metadata": {},
   "outputs": [],
   "source": [
    "img = astronaut()   # Get the image\n",
    "print(img.shape)    # the dimension of the image\n",
    "print(img.dtype)    # the image type"
   ]
  },
  {
   "cell_type": "markdown",
   "execution_count": null,
   "metadata": {},
   "outputs": [],
   "source": [
    "We have a `(512, 512, 3)` array of unsigned bytes. At `img[x, y]` there are three values for R,G and B."
   ]
  },
  {
   "cell_type": "markdown",
   "execution_count": null,
   "metadata": {},
   "outputs": [],
   "source": [
    "We will always work with floating point arrays between 0 and 1. "
   ]
  },
  {
   "cell_type": "code",
   "execution_count": null,
   "metadata": {},
   "outputs": [],
   "source": [
    "img = img / 255."
   ]
  },
  {
   "cell_type": "markdown",
   "execution_count": null,
   "metadata": {},
   "outputs": [],
   "source": [
    "Lets display the image."
   ]
  },
  {
   "cell_type": "code",
   "execution_count": null,
   "metadata": {},
   "outputs": [],
   "source": [
    "plt.imshow(img)\n",
    "plt.show()"
   ]
  },
  {
   "cell_type": "markdown",
   "execution_count": null,
   "metadata": {},
   "outputs": [],
   "source": [
    "This is [Eileen Collins](https://en.wikipedia.org/wiki/Eileen_Collins). She was the first astronaut \n",
    " to fly the Space Shuttle through a complete 360-degree pitch maneuver. What an inspiring woman."
   ]
  },
  {
   "cell_type": "markdown",
   "execution_count": null,
   "metadata": {},
   "outputs": [],
   "source": [
    "## Exercise 1 - Plot -       [1 Point]\n",
    "\n",
    "Plot the R, G and B channels separately."
   ]
  },
  {
   "cell_type": "code",
   "execution_count": null,
   "metadata": {},
   "outputs": [],
   "source": [
    "# Your code here \n",
    "x, y , z = img.shape \n",
    "imgR, imgG, imgB = img.copy(), img.copy() , img.copy()  \n",
    " \n",
    " \n",
    "imgR[ : , : , (1,2)] = 0  \n",
    "imgG[ : , : , (0,2)] = 0 \n",
    "imgB[ : , : , (0,1)] = 0 \n",
    " \n",
    "plt.imshow(imgR) \n",
    "plt.show() \n",
    " \n",
    "plt.imshow(imgG) \n",
    "plt.show() \n",
    " \n",
    "plt.imshow(imgB) \n",
    "plt.show()"
   ]
  },
  {
   "cell_type": "markdown",
   "execution_count": null,
   "metadata": {},
   "outputs": [],
   "source": [
    "## Exercise 2 - RGB to HSV [6 Points]\n",
    "\n",
    "Implement the `rgb_to_hsv` and `hsv_to_rgb` functions. Don't use any color conversion functions from a library.\n"
   ]
  },
  {
   "cell_type": "code",
   "execution_count": null,
   "metadata": {
    "tags": [
     "outputPrepend",
     "outputPrepend",
     "outputPrepend"
    ]
   },
   "outputs": [],
   "source": [
    "def rgb_to_hsv(x): \n",
    "    MAX = np.amax(x)\n",
    "    MIN = np.amin(x) \n",
    "    R,G,B = x[0],x[1],x[2] \n",
    "    H,S,V = 0,0,MAX \n",
    "    if(MAX == MIN): \n",
    "        H = 0\n",
    "    elif(MAX == R):\n",
    "        H = 60 *((G-B) / (MAX - MIN))\n",
    "    elif(MAX == G):\n",
    "        H = 60 * (2 + ((B-R)/(MAX - MIN)))\n",
    "    elif(MAX == B):\n",
    "        H = 60 * (4 + ((R-G)/(MAX - MIN)))\n",
    " \n",
    "    if(H < 0):\n",
    "        H = H + 360\n",
    "    \n",
    "    if(MAX != 0):\n",
    "        S = (MAX - MIN)/ MAX\n",
    "  \n",
    "    return np.array([H,S,V]) "
   ]
  },
  {
   "cell_type": "code",
   "execution_count": null,
   "metadata": {},
   "outputs": [],
   "source": [
    "def hsv_to_rgb(x):\n",
    "    H,S,V = x[0],x[1],x[2]\n",
    "    H_1 = H / 60\n",
    "    C = V * S\n",
    "    X = C * (1 - abs(H_1 % 2 - 1))\n",
    "    R,G,B  = 0,0,0\n",
    "\n",
    "    if(H == 0):\n",
    "        R,G,B = 0,0,0\n",
    "    elif(0 <= H_1 <= 1):\n",
    "        R,G,B = C,X,0\n",
    "    elif(1 <= H_1 <= 2):\n",
    "        R,G,B = X,C,0\n",
    "    elif(2 <= H_1 <= 3):\n",
    "        R,G,B = 0,C,X\n",
    "    elif(3 <= H_1 <= 4):\n",
    "        R,G,B = 0,X,C\n",
    "    elif(4 <= H_1 <= 5):\n",
    "        R,G,B = X,0,C\n",
    "    elif(5 <= H_1 <= 6):\n",
    "        R,G,B = C,0,X\n",
    "\n",
    "    m = V - C\n",
    "\n",
    "    return np.array([R+m,G+m,B+m])"
   ]
  },
  {
   "cell_type": "markdown",
   "execution_count": null,
   "metadata": {},
   "outputs": [],
   "source": [
    "Plot the saturation of the astronaut image"
   ]
  },
  {
   "cell_type": "code",
   "execution_count": null,
   "metadata": {},
   "outputs": [],
   "source": [
    "img_as_hsv = np.apply_along_axis(rgb_to_hsv, 2, img) \n",
    "\n",
    "img_as_hsv = img_as_hsv[ : , : , [1,1,1]] \n",
    " \n",
    "plt.imshow( img_as_hsv ) \n",
    "plt.show()"
   ]
  },
  {
   "cell_type": "markdown",
   "execution_count": null,
   "metadata": {},
   "outputs": [],
   "source": [
    "Increase the saturation by a factor of 2, convert it back to RGB and plot the result."
   ]
  },
  {
   "cell_type": "code",
   "execution_count": null,
   "metadata": {},
   "outputs": [],
   "source": [
    "def double(x):\n",
    "    return np.array([x[0], x[1] * 2, x[2]])\n",
    "\n",
    "\n",
    "img_as_hsv = np.apply_along_axis(rgb_to_hsv, 2, img) \n",
    "\n",
    "img_as_hsv = np.apply_along_axis(double,2,img_as_hsv)\n",
    "img_RGB2 = np.apply_along_axis(hsv_to_rgb, 2, img_as_hsv)\n",
    "\n",
    "\n",
    "plt.imshow( img_RGB2 ) \n",
    "plt.show()\n",
    " "
   ]
  },
  {
   "cell_type": "markdown",
   "execution_count": null,
   "metadata": {
    "pycharm": {
     "name": "#%% md\n"
    }
   },
   "outputs": [],
   "source": [
    "## Exercise 3 - Calculation [2 Points]\n",
    "\n",
    "In the figure below you can see the [CIE-XYZ](https://de.wikipedia.org/wiki/CIE-Normvalenzsystem) color space.\n",
    "![](https://upload.wikimedia.org/wikipedia/commons/4/49/CIE-Normfarbtafel.png)\n",
    "\n",
    "What are the approximate x,y,z values for the following Adobe RGB colors:\n",
    "* `(0, 0.5, 0.5)`\n",
    "* `(0.33, 0.33, 0.33)`\n",
    "\n",
    "A sodium-vapor lamp shines with double the intensity of a mercury-vapor lamp\n",
    ". The light from the sodium lamp only contains \n",
    "the spectral line at `589,00nm` and the light from the mercury lamp only the\n",
    "spectral line at `435,83 nm`.\n",
    "\n",
    "What color does a human experience? What are the approximate x,y,z values?\n"
   ]
  },
  {
   "cell_type": "code",
   "execution_count": null,
   "metadata": {},
   "outputs": [],
   "source": [
    "def rgb2xyz(x):\n",
    "\n",
    "    # x[0] = x[0] * 255\n",
    "    # x[1] = x[1] * 255\n",
    "    # x[2] = x[2] * 255\n",
    "\n",
    "    constArray = np.array( [ (0.49, 0.31, 0.20), (0.17697, 0.81240, 0.01063), (0.00, 0.01, 0.99) ] )\n",
    "    \n",
    "    arrayCalcScalar = (1 / 0.17697 ) * constArray\n",
    "    result = arrayCalcScalar @ x \n",
    "\n",
    "    return result\n",
    "\n",
    "print(rgb2xyz([0, 0.5, 0.5]))\n",
    "print(rgb2xyz([0.33, 0.33, 0.33]))"
   ]
  },
  {
   "cell_type": "code",
   "execution_count": null,
   "metadata": {},
   "outputs": [],
   "source": [
    "wavelength = ( ( (2/3)*589 + (1/3)*435.83 ) ) \n",
    "#wavelength to rgb: https://academo.org/demos/wavelength-to-colour-relationship/\n",
    "#Wellenlänge entspricht ~583, entspricht somit einem grün Ton\n",
    "#calculated rgb values\n",
    "rgb_values = (123, 255, 0)\n",
    "\n",
    "rgb = [0.482352941, 1, 0] #<- Solution x, y, z values\n",
    "print(rgb2xyz(rgb))\n",
    ""
   ]
  }
 ],
 "metadata": {
  "kernelspec": {
   "display_name": "Python 3.7.3 64-bit ('.anaconda3': virtualenv)",
   "language": "python",
   "name": "python37364bitanaconda3virtualenv7014dd4a45dc45fc80fe567087c82288"
  },
  "language_info": {
   "codemirror_mode": {
    "name": "ipython",
    "version": 3
   },
   "file_extension": ".py",
   "mimetype": "text/x-python",
   "name": "python",
   "nbconvert_exporter": "python",
   "pygments_lexer": "ipython3",
   "version": "3.7.3-final"
  }
 },
 "nbformat": 4,
 "nbformat_minor": 4
}