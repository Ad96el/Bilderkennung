{
 "cells": [
  {
   "cell_type": "markdown",
   "metadata": {},
   "source": [
    "# Image Processing SS 20 - Assignment - 01\n",
    "\n",
    "### Deadline is 29.4.2020 at 12:00\n",
    "\n",
    "Please solve the assignments together with a partner. Write the names of yourself and your partner and a link to your repository in a text-submission in the Whiteboard. You have to do this EVERY WEEK.\n",
    "I will run every notebook. Make sure the code runs without errors, when clicking `Kernel` -> `Restart,Run All`.\n"
   ]
  },
  {
   "cell_type": "markdown",
   "metadata": {},
   "source": [
    "## Introduction to Python / Numpy\n",
    "\n",
    "* [Learn Python in 15 minutes](https://learnxinyminutes.com/docs/python3/): We will use Python 3.\n",
    "* [Numpy for Matlab Users](https://docs.scipy.org/doc/numpy/user/numpy-for-matlab-users.html#general-purpose-equivalents)\n",
    "* [Numpy Quickstart](https://docs.scipy.org/doc/numpy/user/quickstart.html)\n",
    "\n",
    "## Libraries\n",
    "\n",
    "We will use the following libraries:\n",
    "\n",
    "* matplotlib\n",
    "* numpy\n",
    "* scipy\n",
    "* skimage\n"
   ]
  },
  {
   "cell_type": "markdown",
   "metadata": {},
   "source": [
    "# Exercise 0 - Setup Development Enviroment - [1 Point]\n",
    "\n",
    "Find a partner, follow the steps in the [README](https://github.com/BildverarbeitungSS20/Hausaufgaben/blob/master/README.md) and paste a link to your repository and your names into the KVV assignment box. Also include your names inside your solution.\n",
    "You do not need to upload any files to MyCampus Whiteboard. I will clone your repository."
   ]
  },
  {
   "cell_type": "code",
   "execution_count": 1,
   "metadata": {},
   "outputs": [],
   "source": [
    "# display the plots inside the notebook\n",
    "%matplotlib inline"
   ]
  },
  {
   "cell_type": "code",
   "execution_count": 2,
   "metadata": {},
   "outputs": [],
   "source": [
    "import numpy as np\n",
    "import matplotlib.pyplot as plt\n",
    "import pylab \n",
    "pylab.rcParams['figure.figsize'] = (12, 12)   # This makes the plot bigger"
   ]
  },
  {
   "cell_type": "markdown",
   "metadata": {},
   "source": [
    "The [skimage](http://scikit-image.org/) library comes with multiple useful test images.  Let's start with an image of an astronaut. "
   ]
  },
  {
   "cell_type": "code",
   "execution_count": 3,
   "metadata": {},
   "outputs": [],
   "source": [
    "from skimage.data import astronaut"
   ]
  },
  {
   "cell_type": "code",
   "execution_count": 4,
   "metadata": {},
   "outputs": [
    {
     "output_type": "stream",
     "name": "stdout",
     "text": "(512, 512, 3)\nuint8\n"
    }
   ],
   "source": [
    "img = astronaut()   # Get the image\n",
    "print(img.shape)    # the dimension of the image\n",
    "print(img.dtype)    # the image type"
   ]
  },
  {
   "cell_type": "markdown",
   "metadata": {},
   "source": [
    "We have a `(512, 512, 3)` array of unsigned bytes. At `img[x, y]` there are three values for R,G and B."
   ]
  },
  {
   "cell_type": "markdown",
   "metadata": {},
   "source": [
    "We will always work with floating point arrays between 0 and 1. "
   ]
  },
  {
   "cell_type": "code",
   "execution_count": null,
   "metadata": {},
   "outputs": [],
   "source": [
    "img = img / 255."
   ]
  },
  {
   "cell_type": "markdown",
   "metadata": {},
   "source": [
    "Lets display the image."
   ]
  },
  {
   "cell_type": "code",
   "execution_count": null,
   "metadata": {},
   "outputs": [],
   "source": [
    "plt.imshow(img)\n",
    "plt.show()"
   ]
  },
  {
   "cell_type": "markdown",
   "metadata": {},
   "source": [
    "This is [Eileen Collins](https://en.wikipedia.org/wiki/Eileen_Collins). She was the first astronaut \n",
    " to fly the Space Shuttle through a complete 360-degree pitch maneuver. What an inspiring woman."
   ]
  },
  {
   "cell_type": "markdown",
   "metadata": {},
   "source": [
    "## Exercise 1 - Plot -       [1 Point]\n",
    "\n",
    "Plot the R, G and B channels separately."
   ]
  },
  {
   "cell_type": "code",
   "execution_count": null,
   "metadata": {},
   "outputs": [],
   "source": [
    "# Your code here \n",
    "imgR, imgG, imgB = img.copy(), img.copy() , img.copy()  \n",
    " \n",
    " \n",
    "imgR[ : , : , (1,2)] = 0 \n",
    "imgG[ : , : , (0,2)] = 0 \n",
    "imgB[ : , : , (0,1)] = 0\n",
    " \n",
    "plt.imshow(imgR) \n",
    "plt.show() \n",
    " \n",
    "plt.imshow(imgG) \n",
    "plt.show() \n",
    " \n",
    "plt.imshow(imgB) \n",
    "plt.show()"
   ]
  },
  {
   "cell_type": "markdown",
   "metadata": {},
   "source": [
    "## Exercise 2 - RGB to HSV [6 Points]\n",
    "\n",
    "Implement the `rgb_to_hsv` and `hsv_to_rgb` functions. Don't use any color conversion functions from a library.\n"
   ]
  },
  {
   "cell_type": "code",
   "execution_count": null,
   "metadata": {
    "tags": [
     "outputPrepend",
     "outputPrepend",
     "outputPrepend"
    ]
   },
   "outputs": [],
   "source": [
    "def rgb_to_hsv(x): \n",
    "    MAX = np.amax(x)\n",
    "    MIN = np.amin(x) \n",
    "    R,G,B = x[0],x[1],x[2] \n",
    "    H,S,V = 0,0,MAX \n",
    "    if(MAX == MIN): \n",
    "        H = 0\n",
    "    elif(MAX == R):\n",
    "        H = 60 *((G-B) / (MAX - MIN))\n",
    "    elif(MAX == G):\n",
    "        H = 60 * (2 + ((B-R)/(MAX - MIN)))\n",
    "    elif(MAX == B):\n",
    "        H = 60 * (4 + ((R-G)/(MAX - MIN)))\n",
    " \n",
    "    if(H < 0):\n",
    "        H = H + 360\n",
    "    \n",
    "    if(MAX != 0):\n",
    "        S = (MAX - MIN)/ MAX\n",
    "  \n",
    "    return np.array([H,S,V]) "
   ]
  },
  {
   "cell_type": "code",
   "execution_count": null,
   "metadata": {},
   "outputs": [],
   "source": [
    "import math\n",
    "def hsv_to_rgb(x):\n",
    "    \"\"\"\n",
    "    Converts the numpy array `x` from HSV to the RGB. \n",
    "    \"\"\"\n",
    "    # Your code here\n",
    "    res = []\n",
    " \n",
    "    h,s,v = x[0],x[1],x[2] \n",
    "    hi = math.floor(h / 60)\n",
    "    f = ( (h/60) - hi )\n",
    "\n",
    "    p = v * (1 - s)\n",
    "    q = v * (1 - s * f)\n",
    "    t = v * ( 1 - s * ( 1 - f ) )\n",
    "\n",
    "    if s == 0:\n",
    "        res = np.array([v,v,v]) \n",
    " \n",
    "    elif( hi == 0 or hi == 6 ):\n",
    "        res = np.array([v,t,p])\n",
    " \n",
    "    elif hi == 1:\n",
    "        res = np.array([q,v,p])\n",
    "    elif hi == 2:\n",
    "        res = np.array([p,v,t])\n",
    "    elif hi == 3:\n",
    "        res = np.array([p,q,v])\n",
    "    elif hi == 4:\n",
    "        res = np.array([t,p,v])\n",
    "    elif hi == 5:\n",
    "        res = np.array([v,p,q])\n",
    "    return res"
   ]
  },
  {
   "cell_type": "markdown",
   "metadata": {},
   "source": [
    "Plot the saturation of the astronaut image"
   ]
  },
  {
   "cell_type": "code",
   "execution_count": null,
   "metadata": {},
   "outputs": [],
   "source": [
    "img_as_hsv = np.apply_along_axis(rgb_to_hsv, 2, img) \n",
    "\n",
    "img_as_hsv = img_as_hsv[ : , : , [1,1,1]] \n",
    " \n",
    "plt.imshow( img_as_hsv ) \n",
    "plt.show()"
   ]
  },
  {
   "cell_type": "markdown",
   "metadata": {},
   "source": [
    "Increase the saturation by a factor of 2, convert it back to RGB and plot the result."
   ]
  },
  {
   "cell_type": "code",
   "execution_count": null,
   "metadata": {},
   "outputs": [],
   "source": [
    "def double(x):\n",
    "    if(x[1] * 2 > 1):\n",
    "        return np.array([x[0], 1, x[2]])\n",
    "    else: \n",
    "        return np.array([x[0], x[1] * 2, x[2]]) \n",
    "\n",
    "\n",
    "img_as_hsv = np.apply_along_axis(rgb_to_hsv, 2, img) \n",
    "\n",
    "img_as_hsv = np.apply_along_axis(double,2,img_as_hsv)\n",
    "img_RGB2 = np.apply_along_axis(hsv_to_rgb, 2, img_as_hsv)\n",
    "\n",
    "\n",
    "plt.imshow( img_RGB2 ) \n",
    "plt.show()\n",
    " "
   ]
  },
  {
   "cell_type": "markdown",
   "metadata": {
    "pycharm": {
     "name": "#%% md\n"
    }
   },
   "source": [
    "## Exercise 3 - Calculation [2 Points]\n",
    "\n",
    "In the figure below you can see the [CIE-XYZ](https://de.wikipedia.org/wiki/CIE-Normvalenzsystem) color space.\n",
    "![](https://upload.wikimedia.org/wikipedia/commons/4/49/CIE-Normfarbtafel.png)\n",
    "\n",
    "What are the approximate x,y,z values for the following Adobe RGB colors:\n",
    "* `(0, 0.5, 0.5)`\n",
    "* `(0.33, 0.33, 0.33)`\n",
    "\n",
    "A sodium-vapor lamp shines with double the intensity of a mercury-vapor lamp\n",
    ". The light from the sodium lamp only contains \n",
    "the spectral line at `589,00nm` and the light from the mercury lamp only the\n",
    "spectral line at `435,83 nm`.\n",
    "\n",
    "What color does a human experience? What are the approximate x,y,z values?\n"
   ]
  },
  {
   "cell_type": "code",
   "execution_count": null,
   "metadata": {},
   "outputs": [],
   "source": [
    "def rgb2xyz(x):\n",
    "    constArray = np.array( [ (0.57667, 0.18556,0.18823), (0.29734 ,0.62736 ,0.07529), (0.02703, 0.07069, 0.99134) ])\n",
    "    result = constArray @ x \n",
    "    return result\n",
    "\n",
    "print(rgb2xyz([0, 0.5, 0.5]))\n",
    "print(rgb2xyz([0.33, 0.33, 0.33]))\n",
    "#Matriz AdobeRGB to XYZ stammt von: https://www.adobe.com/digitalimag/pdfs/AdobeRGB1998.pdf"
   ]
  },
  {
   "cell_type": "markdown",
   "metadata": {},
   "source": [
    "Die ungefähren Werte für (0, 0.5, 0.5) lauten (0.186895, 0.351325, 0.531015)\n",
    "und für (0.33, 0.33, 0.33) lauten sie (0.3136518, 0.3299967, 0.3593898)"
   ]
  },
  {
   "cell_type": "code",
   "execution_count": null,
   "metadata": {},
   "outputs": [],
   "source": [
    "def xyz2rgb(x):\n",
    "    constArray = np.array( [ (2.04159, -0.56501, -0.34473), (-0.96924, 1.87597, 0.04156), (0.01344, -0.11836, 1.01517) ] )\n",
    "    result = constArray @ x\n",
    "    return result\n",
    "# Funktion ist nur füf die Gegenprobe von rgb2xyz gedacht gewesen\n",
    "# Matriz stammt von: https://www.adobe.com/digitalimag/pdfs/AdobeRGB1998.pdf"
   ]
  },
  {
   "cell_type": "markdown",
   "metadata": {},
   "source": [
    "![](../resources/rgb.jpeg)\n",
    "\n",
    "Da die Natriumlampe mit doppelter Energie ausstrahlt, müssen wir nicht den mittelpunkt der Verbindungslinie von der Quecksilberlampe und der Natriumlampe nehmen, sondern den ersten drittel, ausgehend von der Quecksilberlampe.\n",
    "Die oben dargestellte Skizze ergibt sich daraus\n",
    "Hier können wir für x 0,22 und für y 0,78 herauslesen (blaue linie)\n",
    "z wird jedoch mittles 1-x-y errechnet und ist folglich 0  \n",
    "\n",
    "Wir würden einen dunkleres Grün wahrnehmen"
   ]
  },
  {
   "cell_type": "code",
   "execution_count": 6,
   "metadata": {},
   "outputs": [
    {
     "output_type": "execute_result",
     "data": {
      "text/plain": "512"
     },
     "metadata": {},
     "execution_count": 6
    }
   ],
   "source": [
    "img.shape[2]"
   ]
  },
  {
   "cell_type": "code",
   "execution_count": null,
   "metadata": {},
   "outputs": [],
   "source": []
  }
 ],
 "metadata": {
  "kernelspec": {
   "display_name": "Python 3.7.3 64-bit ('base': conda)",
   "language": "python",
   "name": "python37364bitbasecondabd88c407e14c40be84e83b5bdd135b46"
  },
  "language_info": {
   "codemirror_mode": {
    "name": "ipython",
    "version": 3
   },
   "file_extension": ".py",
   "mimetype": "text/x-python",
   "name": "python",
   "nbconvert_exporter": "python",
   "pygments_lexer": "ipython3",
   "version": "3.7.3-final"
  }
 },
 "nbformat": 4,
 "nbformat_minor": 4
}