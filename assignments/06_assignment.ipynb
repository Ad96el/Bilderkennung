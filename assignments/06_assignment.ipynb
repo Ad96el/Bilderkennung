{
 "cells": [
  {
   "cell_type": "markdown",
   "metadata": {},
   "source": [
    "# Image Processing SS 20 - Assignment 06\n",
    "\n",
    "### Deadline is 03.06.2020 at 11:55 am\n",
    "\n",
    "Please solve the assignments together with a partner.\n",
    "I will run every notebook. Make sure the code runs through. Select `Kernel` -> `Restart & Run All` to test it.\n",
    "Please strip the output from the cells, either select `Cell` -> `All Output` -> `Clear` or use the `nb_strip_output.py` script / git hook."
   ]
  },
  {
   "cell_type": "code",
   "execution_count": null,
   "metadata": {},
   "outputs": [],
   "source": [
    "# display the plots inside the notebook\n",
    "%matplotlib inline"
   ]
  },
  {
   "cell_type": "code",
   "execution_count": null,
   "metadata": {},
   "outputs": [],
   "source": [
    "import numpy as np\n",
    "import matplotlib.pyplot as plt\n",
    "import pylab\n",
    "import scipy.io.wavfile\n",
    "from io import BytesIO\n",
    "import urllib.request as urllib2\n",
    "import ssl\n",
    "from math import e,pi,sqrt\n",
    "import IPython.display as adt\n",
    "import scipy.signal as sp \n",
    "from scipy.linalg import dft\n",
    "ssl._create_default_https_context = ssl._create_unverified_context\n",
    "pylab.rcParams['figure.figsize'] = (23, 5)   # This makes the plot bigger"
   ]
  },
  {
   "cell_type": "markdown",
   "metadata": {},
   "source": [
    "# Exercise 1 - Crosscorrelation - 2 Points\n",
    "Implement a function myCrossCorrelation, which takes two discrete functions in the form of arrays as an input and outputs the resulting crosscorrelation function. Now apply your correlation function as follows:\n",
    "a) use as input function 1 an array of 10 random numbers (0-255), function 2 shall be [1], plot the two functions and the result of the crosscorrelation of both.\n",
    "b) use the same function 1 as in a), function b) shall be [1 2 1]. Plot the two functions and the crosscorrelation of both.\n",
    "c) repeat the first two tasks but swap the arguments"
   ]
  },
  {
   "cell_type": "code",
   "execution_count": null,
   "metadata": {},
   "outputs": [],
   "source": [
    "np.random.seed(500)"
   ]
  },
  {
   "cell_type": "code",
   "execution_count": null,
   "metadata": {
    "pycharm": {
     "name": "#%%\n"
    }
   },
   "outputs": [],
   "source": [
    "def myCrossCorrelation(func1, func2):\n",
    "    result = np.zeros_like(func1)\n",
    "    func2 = np.flip(func2)\n",
    "    for i,val in enumerate(func1):\n",
    "        c = func2[ :i + 1]\n",
    "        length = len(c)\n",
    "        for j in range(length):\n",
    "            result[i] += c[length - j  - 1 ] * func1[i - j]\n",
    "    return result\n",
    "\n",
    "random = np.random.randint(low=0,high=255,size=10)\n",
    "a = myCrossCorrelation(random, np.array([1]))\n",
    "b = myCrossCorrelation(random, np.array([1,2,1]))\n",
    "c1 = myCrossCorrelation(np.array([1]),random )\n",
    "c2 = myCrossCorrelation( np.array([1,2,1]) ,random)\n",
    " \n",
    "\n",
    "plt.subplot(221)\n",
    "plt.title(\"a)\")\n",
    "plt.plot(a)\n",
    "plt.subplot(222)\n",
    "plt.title(\"b)\")\n",
    "plt.plot(b)\n",
    "plt.subplot(223)\n",
    "plt.title(\"c)\")\n",
    "plt.plot(c1)\n",
    "plt.subplot(224)\n",
    "plt.title(\"c)\")\n",
    "plt.plot(c2)\n",
    "plt.show()"
   ]
  },
  {
   "cell_type": "markdown",
   "metadata": {},
   "source": [
    "# Exercise 2 - Discrete Fourier Transformation - 4 Points\n",
    "Implement the Discrete Fourier Transformation with [Matrix Multiplication](https://en.wikipedia.org/wiki/DFT_matrix)."
   ]
  },
  {
   "cell_type": "code",
   "execution_count": null,
   "metadata": {},
   "outputs": [],
   "source": [
    "def dft_matrix(n):\n",
    "    \"\"\"\n",
    "    Returns the Discrete Fourier Transformation Matrix of order `n`.\n",
    "    \"\"\"\n",
    "    w  =  e ** ((-2j *pi)/n)\n",
    "    matrix = (1/n**(1/2)) * np.fromfunction(lambda i,k: (w **(i*k)), (n ,n))\n",
    "    return matrix\n",
    "\n",
    "plt.subplot(121)\n",
    "plt.imshow( abs( dft_matrix(8) ))\n",
    "plt.subplot(122)\n",
    "plt.imshow( abs(dft_matrix(32)))\n",
    " \n",
    "plt.show()"
   ]
  },
  {
   "cell_type": "markdown",
   "metadata": {},
   "source": [
    "# Exercise 3 - Spectrogram - 4 Points\n",
    "\n",
    "A [spectrogram](https://en.wikipedia.org/wiki/Spectrogram) visualises the intensities of the different frequencies over time. On the x-axis is the time and on the y-axis are the frequencies.\n",
    "Your task is to build the spectrogram of the given audio clip. If you failed to do exercise 2, you can use some library for the fourier transformation."
   ]
  },
  {
   "cell_type": "code",
   "execution_count": null,
   "metadata": {},
   "outputs": [],
   "source": [
    "def load_wav(url):\n",
    "    f = urllib2.urlopen(url)\n",
    "    buffer = BytesIO(f.read())\n",
    "    sample_rate, audio = scipy.io.wavfile.read(buffer)\n",
    "    if len(audio.shape) == 2:\n",
    "        # only select one channel\n",
    "        audio = audio[:, 0]\n",
    "    return sample_rate, audio / audio.max()"
   ]
  },
  {
   "cell_type": "code",
   "execution_count": null,
   "metadata": {},
   "outputs": [],
   "source": [
    "dolphines_url = \"http://www.pmel.noaa.gov/acoustics/whales/sounds/whalewav/akhumphi1x.wav\"\n",
    "# some dolphin sounds\n",
    "sample_rate, audio = load_wav(dolphines_url)"
   ]
  },
  {
   "cell_type": "code",
   "execution_count": null,
   "metadata": {},
   "outputs": [],
   "source": [
    "print(audio.shape)"
   ]
  },
  {
   "cell_type": "code",
   "execution_count": null,
   "metadata": {},
   "outputs": [],
   "source": [
    "# listen to the audio\n",
    "adt.Audio(data=audio, rate=sample_rate)"
   ]
  },
  {
   "cell_type": "code",
   "execution_count": null,
   "metadata": {},
   "outputs": [],
   "source": [
    "# plot the values.\n",
    "plt.plot(audio)\n",
    "plt.show()"
   ]
  },
  {
   "cell_type": "code",
   "execution_count": null,
   "metadata": {},
   "outputs": [],
   "source": [
    "def spectogram(audio, window_size=500):\n",
    "    \n",
    "    \"\"\"\n",
    "    Builds the spectogram of the audio clip. Split the audio clip into buckets of `window_size` and \n",
    "    use the discrete fourier transformation to get the intensity of the frequencies.\n",
    "    The entry at position (i, j) of the matrix is the intensity of the i-th frequencies in the j-th bucket.\n",
    "    \"\"\"\n",
    "    # ignore the last 6 elements to split the signal in window_size=500 \n",
    "    audio = audio[:-6]\n",
    "\n",
    "    window_counter = audio.shape[0] // window_size\n",
    "\n",
    "    # split the signal in buckets\n",
    "    windows = np.array(np.split(audio,window_counter))\n",
    "\n",
    "    # create the dft matrix\n",
    "    matrix = dft_matrix(window_size)\n",
    "\n",
    "    # init the result\n",
    "    result = np.zeros((window_counter, int(window_size)))\n",
    "\n",
    "    # calculate the dft for every window. \n",
    "    for i,window in enumerate(windows):\n",
    "         result[i] = matrix @ window \n",
    "\n",
    "    return  result.T[250:]"
   ]
  },
  {
   "cell_type": "code",
   "execution_count": null,
   "metadata": {
    "tags": [
     "outputPrepend",
     "outputPrepend",
     "outputPrepend"
    ]
   },
   "outputs": [],
   "source": [
    "specgram = spectogram(audio) "
   ]
  },
  {
   "cell_type": "code",
   "execution_count": null,
   "metadata": {},
   "outputs": [],
   "source": [
    "im = plt.imshow(specgram)\n",
    "plt.colorbar(im, fraction=0.02, pad=0.04)\n",
    "plt.show()"
   ]
  },
  {
   "cell_type": "code",
   "execution_count": null,
   "metadata": {},
   "outputs": [],
   "source": [
    "# plot it logarithmically\n",
    "im = plt.imshow(specgram)    # your code here\n",
    "plt.colorbar(im, fraction=0.02, pad=0.04)\n",
    "plt.show()"
   ]
  },
  {
   "cell_type": "code",
   "execution_count": null,
   "metadata": {},
   "outputs": [],
   "source": []
  }
 ],
 "metadata": {
  "kernelspec": {
   "display_name": "Python 3.7.3 64-bit ('base': conda)",
   "language": "python",
   "name": "python37364bitbasecondabd88c407e14c40be84e83b5bdd135b46"
  },
  "language_info": {
   "codemirror_mode": {
    "name": "ipython",
    "version": 3
   },
   "file_extension": ".py",
   "mimetype": "text/x-python",
   "name": "python",
   "nbconvert_exporter": "python",
   "pygments_lexer": "ipython3",
   "version": "3.7.0-final"
  }
 },
 "nbformat": 4,
 "nbformat_minor": 1
}