{
 "cells": [
  {
   "cell_type": "markdown",
   "metadata": {},
   "source": [
    "# Image Processing SS 20 - Assignment - 07\n",
    "\n",
    "### Deadline is 10.6.2020 at 11:55am\n",
    "\n",
    "Please solve the assignments together with a partner.\n",
    "I will run every notebook. Make sure the code runs through. Select `Kernel` -> `Restart & Run All` to test it.\n",
    "Please strip the output from the cells, either select `Cell` -> `All Output` -> `Clear` or use the `nb_strip_output.py` script / git hook."
   ]
  },
  {
   "cell_type": "code",
   "execution_count": null,
   "metadata": {},
   "outputs": [],
   "source": [
    "# display the plots inside the notebook\n",
    "%matplotlib inline"
   ]
  },
  {
   "cell_type": "code",
   "execution_count": null,
   "metadata": {},
   "outputs": [],
   "source": [
    "import numpy as np\n",
    "import matplotlib.pyplot as plt\n",
    "import pylab\n",
    "from skimage.data import chelsea\n",
    "from skimage.color import rgb2gray\n",
    "from math import e,pi,sqrt\n",
    "    \n",
    "from numpy.fft import fft2 as numpy_fft2, ifft2 as numpy_ifft2\n",
    "\n",
    "pylab.rcParams['figure.figsize'] = (12, 12)   # This makes the plot bigger"
   ]
  },
  {
   "cell_type": "code",
   "execution_count": null,
   "metadata": {},
   "outputs": [],
   "source": [
    "def dft_matrix(n):\n",
    "    \"\"\"\n",
    "    Returns the Discrete Fourier Transformation Matrix of order `n`.\n",
    "    \"\"\"\n",
    "    omega = np.exp( - 2 * np.pi * 1J / n )\n",
    "    W = np.ones((n,n), dtype=complex)\n",
    "    for x in range(W.shape[0]):\n",
    "        for y in range(W.shape[1]):\n",
    "            W[x,y] = omega**(x*y)\n",
    "    return W / np.sqrt(n)"
   ]
  },
  {
   "cell_type": "markdown",
   "metadata": {},
   "source": [
    "# Exercise 1 - 2D DFT - 2 Points\n",
    "Implement the 2D Discrete Fourier Transformation with [Matrix Multiplication](https://en.wikipedia.org/wiki/DFT_matrix). You can use your code from the last assignment to compute the dct matrix."
   ]
  },
  {
   "cell_type": "code",
   "execution_count": null,
   "metadata": {},
   "outputs": [],
   "source": [
    "def dft2d(img):\n",
    "    \"\"\"\n",
    "    Returns the 2d discrete fourier transformation\n",
    "    \"\"\"  \n",
    "    matrixL = dft_matrix(img.shape[0])\n",
    "    matrixR = dft_matrix(img.shape[1])\n",
    "    return (matrixL @ img @ matrixR)\n",
    "\n",
    "def inv_dft2d(x):\n",
    "    \"\"\"\n",
    "    Returns the 2d inverse discrete fourier transformation\n",
    "    \"\"\"\n",
    "    matrixL = dft_matrix(x.shape[0])\n",
    "    matrixR = dft_matrix(x.shape[1]) \n",
    "    return np.conjugate(matrixL) @ x @ np.conjugate(matrixR)\n",
    "\n",
    "\n",
    "def chess_board(n=8, field_size=32):\n",
    "    board = np.zeros((n*field_size, n*field_size))\n",
    "    s = field_size\n",
    "    for i in range(n):\n",
    "        for j in range(n):\n",
    "            if (i + j) % 2 == 0:\n",
    "                board[i*s:(i+1)*s, j*s:(j+1)*s] = 1\n",
    "    return board\n",
    "\n",
    "\n",
    "plt.subplot(131)\n",
    "plt.title('2d dft + inverse')\n",
    "plt.imshow(abs(inv_dft2d(dft2d(chess_board() ))), cmap='gray')\n",
    "plt.subplot(132)\n",
    "plt.title('real')\n",
    "plt.imshow(np.real(dft2d( chess_board() )), cmap='gray')\n",
    "plt.subplot(133)\n",
    "plt.title('image')\n",
    "plt.imshow(np.imag(dft2d(chess_board())), cmap='gray')\n",
    "plt.show()\n",
    " "
   ]
  },
  {
   "cell_type": "markdown",
   "metadata": {},
   "source": [
    "# Exercise 2 - High and Low Pass filter with the 2D fourier transformation - 3 Points"
   ]
  },
  {
   "cell_type": "code",
   "execution_count": null,
   "metadata": {},
   "outputs": [],
   "source": [
    "def high_pass(img_ft, n): \n",
    "    ft = img_ft.copy()\n",
    "    ft[:n, :n] = 0\n",
    "    ft[-n:, :n] = 0\n",
    "    ft[-n:, -n:] = 0\n",
    "    ft[:n, -n:] = 0\n",
    "    return ft\n",
    "\n",
    "def low_pass(img_ft, n):\n",
    "    ft = img_ft.copy()\n",
    "    ft[n:-n,:] = 0\n",
    "    ft[:,n:-n] = 0\n",
    "    return ft\n",
    "\n",
    "def band_pass(img_ft, low, high):\n",
    "    result = low_pass(img_ft, high)\n",
    "    result = high_pass(result, low)\n",
    "    return result\n",
    "    \n",
    "def inv_dft_and_plot(img_ft):\n",
    "    plt.imshow(np.real(inv_dft2d(img_ft)), cmap='gray')\n",
    "    plt.show()"
   ]
  },
  {
   "cell_type": "markdown",
   "metadata": {},
   "source": [
    "## for verification"
   ]
  },
  {
   "cell_type": "code",
   "execution_count": null,
   "metadata": {},
   "outputs": [],
   "source": [
    "img2 = np.ones((64,64))\n",
    "\n",
    "plt.subplot(131)\n",
    "plt.imshow( high_pass(img2, 2) , cmap='gray')\n",
    "plt.subplot(132)\n",
    "plt.imshow( low_pass(img2, 10), cmap='gray')\n",
    "plt.subplot(133)\n",
    "plt.imshow(band_pass(img2, 10 , 2) , cmap='gray')\n",
    "plt.show()"
   ]
  },
  {
   "cell_type": "code",
   "execution_count": null,
   "metadata": {},
   "outputs": [],
   "source": [
    "chess_board_ft = dft2d(chess_board())\n",
    "\n",
    "# display frequency domain of the chess_board\n",
    "plt.subplot(121)\n",
    "plt.imshow(np.real(chess_board_ft), cmap='gray')\n",
    "plt.subplot(122)\n",
    "plt.imshow(np.imag(chess_board_ft), cmap='gray')\n",
    "plt.show()"
   ]
  },
  {
   "cell_type": "code",
   "execution_count": null,
   "metadata": {},
   "outputs": [],
   "source": [
    "# remove the low frequencies of the chess board\n",
    "chess_high_feq = high_pass(chess_board_ft, 12)\n",
    "inv_dft_and_plot(chess_high_feq)"
   ]
  },
  {
   "cell_type": "code",
   "execution_count": null,
   "metadata": {},
   "outputs": [],
   "source": [
    "# remove the high frequencies of the chess board\n",
    "chess_low_feq = low_pass(chess_board_ft, 10)\n",
    "inv_dft_and_plot(chess_low_feq)"
   ]
  },
  {
   "cell_type": "code",
   "execution_count": null,
   "metadata": {},
   "outputs": [],
   "source": [
    "# remove the high frequencies of the chess board\n",
    "chess_medium_feq = band_pass(chess_board_ft, 5, 15)\n",
    "inv_dft_and_plot(chess_medium_feq)"
   ]
  },
  {
   "cell_type": "code",
   "execution_count": null,
   "metadata": {},
   "outputs": [],
   "source": [
    "img = rgb2gray(chelsea() / 255)\n",
    "\n",
    "# filter all frequencies corresponding to the coefficients between 48 and 128.\n",
    "# your code here\n",
    "\n",
    "maxs = np.amax(img.shape)\n",
    "\n",
    "img_extended = np.zeros((maxs,maxs))\n",
    "img_extended[:img.shape[0],:img.shape[1]] = img\n",
    "\n",
    "\n",
    "ft = dft2d(img_extended)\n",
    "ft_band = band_pass(ft,48,128)\n",
    "\n",
    "inv_pic = inv_dft2d(ft_band)\n",
    "\n",
    "plt.imshow(np.abs(inv_pic[:img.shape [0], :img.shape[1]] ))\n",
    "plt.show()\n",
    "inv_dft_and_plot(inv_pic)"
   ]
  },
  {
   "cell_type": "markdown",
   "metadata": {},
   "source": [
    "# Exercise 3 - FFT - 5 Points\n",
    "\n",
    "Implement the fast fourier transformation. \n",
    "\n",
    "Use the [Cooley-Tukey](https://en.wikipedia.org/wiki/Cooley%E2%80%93Tukey_FFT_algorithm) algorithm."
   ]
  },
  {
   "cell_type": "code",
   "execution_count": null,
   "metadata": {},
   "outputs": [],
   "source": [
    " # what is wrong here? \n",
    "def fft(img):\n",
    "    \"\"\"\n",
    "    Computes the fast fourier transformation of x.\n",
    "    \"\"\"\n",
    "    # extend the picture to the power of 2**x\n",
    "    maxs = np.amax(img.shape)\n",
    "    power = np.where( np.fromfunction(lambda i: (2**i), (15,)) > maxs) [0][0]\n",
    "    value = 2 ** power\n",
    "    img_e = np.zeros((value,value))\n",
    "    img_e[:img.shape[0], :img.shape[1]] = img\n",
    "\n",
    "                             \n",
    "    img_e[:img.shape[0] , img.shape[1]:512] = img[:, :img_e.shape[1]-img.shape[1]]\n",
    "    img_e[img.shape[0]:, :img.shape[1]] = img[:img_e.shape[0]-img.shape[0], :]\n",
    "    img_e[img.shape[0]:512, img.shape[1]:512] = img[:img_e.shape[0]-img.shape[0], :img_e.shape[1]-img.shape[1]]\n",
    " \n",
    "    # calculate the fft for every row + col \n",
    "    result = np.zeros_like(img_e)\n",
    "    for i,row in enumerate(img_e):\n",
    "        result[i] = fft_recursion(row)\n",
    "    result = result.T\n",
    "    for i, col in enumerate(result):\n",
    "        result[i] = fft_recursion(col)\n",
    "    return result.T\n",
    "    \n",
    "\n",
    "def fft_recursion(row):\n",
    "\n",
    "    if( row.shape[0] == 2):\n",
    "        return dft_matrix(2) @ row\n",
    " \n",
    "    even = fft_recursion(row [::2])\n",
    "    odd = fft_recursion(row [1::2])\n",
    "\n",
    "    n_id = np.arange(row.shape[0])\n",
    "    w = e ** (-1j * 2 * np.pi * n_id / row.shape[0]) \n",
    "\n",
    "    odd = np.concatenate((odd,odd))\n",
    "    even = np.concatenate((even,even))\n",
    "    return even + odd * w\n",
    "\n",
    "\n",
    "\n"
   ]
  },
  {
   "cell_type": "code",
   "execution_count": null,
   "metadata": {
    "tags": [
     "outputPrepend",
     "outputPrepend"
    ]
   },
   "outputs": [],
   "source": [
    "img = rgb2gray(chelsea() / 255)\n",
    "fft_img = fft(img)"
   ]
  },
  {
   "cell_type": "code",
   "execution_count": null,
   "metadata": {},
   "outputs": [],
   "source": [
    "plt.subplot(121)\n",
    "plt.imshow(np.real(fft_img))\n",
    "plt.subplot(122)\n",
    "plt.imshow(np.imag(fft_img))\n",
    "plt.show() "
   ]
  },
  {
   "cell_type": "code",
   "execution_count": null,
   "metadata": {},
   "outputs": [],
   "source": [
    "# what is wrong? \n",
    "img_re = inv_dft2d(fft_img)"
   ]
  },
  {
   "cell_type": "code",
   "execution_count": null,
   "metadata": {},
   "outputs": [],
   "source": [
    "plt.subplot(121)\n",
    "plt.imshow( abs(img_re[:img.shape[0]] ) )\n",
    "plt.subplot(122)\n",
    "plt.imshow(np.imag(img_re[:img.shape[0]]))\n",
    "plt.show()"
   ]
  }
 ],
 "metadata": {
  "kernelspec": {
   "display_name": "Python 3.7.3 64-bit ('base': conda)",
   "language": "python",
   "name": "python37364bitbasecondabd88c407e14c40be84e83b5bdd135b46"
  },
  "language_info": {
   "codemirror_mode": {
    "name": "ipython",
    "version": 3
   },
   "file_extension": ".py",
   "mimetype": "text/x-python",
   "name": "python",
   "nbconvert_exporter": "python",
   "pygments_lexer": "ipython3",
   "version": "3.7.0-final"
  }
 },
 "nbformat": 4,
 "nbformat_minor": 1
}