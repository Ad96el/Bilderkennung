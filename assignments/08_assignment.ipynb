{
 "cells": [
  {
   "cell_type": "markdown",
   "metadata": {},
   "source": [
    "# Image Processing SS 20 - Assignment - 08\n",
    "\n",
    "### Deadline is 17.6.2020 at 11:55am\n",
    "\n",
    "Please solve the assignments together with a partner.\n",
    "I will run every notebook. Make sure the code runs through. Select `Kernel` -> `Restart & Run All` to test it.\n",
    "Please strip the output from the cells, either select `Cell` -> `All Output` -> `Clear` or use the `nb_strip_output.py` script / git hook."
   ]
  },
  {
   "cell_type": "code",
   "execution_count": null,
   "metadata": {},
   "outputs": [],
   "source": [
    "# display the plots inside the notebook\n",
    "%matplotlib inline"
   ]
  },
  {
   "cell_type": "code",
   "execution_count": null,
   "metadata": {},
   "outputs": [],
   "source": [
    "import numpy as np\n",
    "import matplotlib.pyplot as plt\n",
    "import pylab\n",
    "from skimage.data import chelsea\n",
    "from skimage.color import rgb2gray\n",
    "from numpy.fft import fft2 as numpy_fft2, ifft2 as numpy_ifft2\n",
    "import math\n",
    "from math import pi, e \n",
    "pylab.rcParams['figure.figsize'] = (12, 12)   # This makes the plot bigger"
   ]
  },
  {
   "cell_type": "markdown",
   "metadata": {},
   "source": [
    "# Exercise 1 - 2D DCT - 4 Points\n",
    "Transform a picture with 2D DCT (discrete cosine transform), which you must implement manually using DCT-II.\n",
    "For the 2D-DCT, perform two 1D-DCT-transformations. Therefore, implement a method which returns a normalized DCT-II\n",
    "matrix. Plot a normalized 16x16 DCT-II-matrix (with colors reflecting the values in the matrix)."
   ]
  },
  {
   "cell_type": "code",
   "execution_count": null,
   "metadata": {},
   "outputs": [],
   "source": [
    "def dct_matrix(N):\n",
    "    C = np.zeros((N,N))\n",
    "    for k in range(N):\n",
    "        for n in range(N):\n",
    "            C[k,n] = np.cos((np.pi*k*(1/2+n))/N)\n",
    "    return (1/np.sqrt(N)) * C \n",
    "\n",
    "def dct2d(img):\n",
    "    matrixL = dct_matrix(img.shape[0])\n",
    "    matrixR = dct_matrix(img.shape[1])\n",
    "    return matrixL @ img @ matrixR\n",
    "\n",
    "def inv_dct2d(x):\n",
    "    \"\"\"\n",
    "    Returns the 2d inverse discrete cosine transformation\n",
    "    \"\"\"\n",
    "    matrixL = dct_matrix(x.shape[0])\n",
    "    matrixR = dct_matrix(x.shape[1])\n",
    "\n",
    "    return np.linalg.inv(matrixL) @ x  @ np.linalg.inv(matrixR)\n",
    "\n",
    "def chess_board(n=8, field_size=32):\n",
    "    board = np.zeros((n*field_size, n*field_size))\n",
    "    s = field_size\n",
    "    for i in range(n):\n",
    "        for j in range(n):\n",
    "            if (i + j) % 2 == 0:\n",
    "                board[i*s:(i+1)*s, j*s:(j+1)*s] = 1\n",
    "    return board\n",
    "\n",
    "\n",
    "\n",
    "for pic in [chess_board(), rgb2gray(chelsea())/255]:\n",
    "    plt.subplot(141)\n",
    "    plt.imshow(np.real(dct2d(pic)) * 200000, cmap='gray')\n",
    "    plt.subplot(142)\n",
    "    plt.imshow(np.imag(dct2d(pic)), cmap='gray')\n",
    "    plt.subplot(143)\n",
    "    plt.imshow((pic), cmap='gray')\n",
    "    plt.subplot(144)\n",
    "    plt.imshow(inv_dct2d(dct2d(pic)), cmap='gray')\n",
    "    plt.show()"
   ]
  },
  {
   "cell_type": "code",
   "execution_count": null,
   "metadata": {},
   "outputs": [],
   "source": [
    "a = dct_matrix(64)\n",
    "plt.imshow(a)\n",
    "plt.show()"
   ]
  },
  {
   "cell_type": "markdown",
   "metadata": {
    "pycharm": {
     "name": "#%% md\n"
    }
   },
   "source": [
    "# Exercise 2 - 1 Point: (Manual calculation, no code needed.)\n",
    "\n",
    "Given is a signal [5,10,12]. Now you have to mirror the signal as in the lectures (resulting in a signal of length 5) and perform a DFT. Please write down all coefficients in the frequency spectrum. What do you see (one sentence)?"
   ]
  },
  {
   "cell_type": "markdown",
   "metadata": {},
   "source": [
    "# Exercise 3 - High and Low Pass filter with 2D DCT - 5 Points"
   ]
  },
  {
   "cell_type": "markdown",
   "metadata": {},
   "source": [
    "Implement the `high_pass` and `low_pass` functions which work on the frequency spectrum of a 2D-DCT\n",
    "transformed image. Apply the filters to both the chessboard and cat image and transform the\n",
    "result back into image space.\n",
    "\n",
    "Show the spectrum before and after filtering as well as the resulting images after backtransformation\n",
    "into image space."
   ]
  },
  {
   "cell_type": "code",
   "execution_count": null,
   "metadata": {},
   "outputs": [],
   "source": [
    "def high_pass(img_ft, n):\n",
    "    \"\"\"Removes the low frequencies\"\"\"\n",
    "    ft = img_ft.copy()\n",
    "    ft[:n,:n] = 0\n",
    "    return ft\n",
    "\n",
    "def low_pass(img_ft, n):\n",
    "    \"\"\"Removes the high frequencies\"\"\"\n",
    "    ft = img_ft.copy()\n",
    "    ft[n:,:] = 0\n",
    "    ft[:,n:] = 0\n",
    "    return ft\n",
    "    \n",
    "def inv_dct_and_plot(img_ft):\n",
    "    plt.imshow(np.real(inv_dct2d(img_ft)), cmap='gray')\n",
    "    plt.show()"
   ]
  },
  {
   "cell_type": "code",
   "execution_count": null,
   "metadata": {},
   "outputs": [],
   "source": [
    "for pic in [chess_board(), rgb2gray(chelsea())/255]:\n",
    "    ft = dct2d(pic)\n",
    "\n",
    "    plt.subplot(141)\n",
    "    plt.title('picture')\n",
    "    plt.imshow(pic, cmap='gray')\n",
    "    plt.subplot(142)\n",
    "    plt.title('frequency spectrum')\n",
    "    plt.imshow( ft, cmap='gray')\n",
    "    plt.subplot(143)\n",
    "    plt.title('frequency spectrum with filter')\n",
    "    plt.imshow(high_pass(ft,12), cmap='gray')\n",
    "    plt.subplot(144)\n",
    "    plt.title('backtransformation')\n",
    "    plt.imshow(inv_dct2d(high_pass(ft,12)), cmap='gray')\n",
    "    plt.show()"
   ]
  },
  {
   "cell_type": "code",
   "execution_count": null,
   "metadata": {},
   "outputs": [],
   "source": [
    "for pic in [chess_board(), rgb2gray(chelsea())/255]:\n",
    "    ft = dct2d(pic)\n",
    "\n",
    "    plt.subplot(141)\n",
    "    plt.title('picture')\n",
    "    plt.imshow(pic, cmap='gray')\n",
    "    plt.subplot(142)\n",
    "    plt.title('frequency spectrum')\n",
    "    plt.imshow( ft, cmap='gray')\n",
    "    plt.subplot(143)\n",
    "    plt.title('frequency spectrum with filter')\n",
    "    plt.imshow(low_pass(ft,12), cmap='gray')\n",
    "    plt.subplot(144)\n",
    "    plt.title('backtransformation')\n",
    "    plt.imshow(inv_dct2d(low_pass(ft,12)), cmap='gray')\n",
    "    plt.show()"
   ]
  }
 ],
 "metadata": {
  "kernelspec": {
   "display_name": "Python 3.7.3 64-bit ('base': conda)",
   "language": "python",
   "name": "python37364bitbasecondabd88c407e14c40be84e83b5bdd135b46"
  },
  "language_info": {
   "codemirror_mode": {
    "name": "ipython",
    "version": 3
   },
   "file_extension": ".py",
   "mimetype": "text/x-python",
   "name": "python",
   "nbconvert_exporter": "python",
   "pygments_lexer": "ipython3",
   "version": "3.7.0-final"
  }
 },
 "nbformat": 4,
 "nbformat_minor": 1
}