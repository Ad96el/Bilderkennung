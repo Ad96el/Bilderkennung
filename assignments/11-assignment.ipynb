{
 "cells": [
  {
   "cell_type": "markdown",
   "metadata": {},
   "source": [
    "# Image Processing SS 20 - Assignment - 11\n",
    "\n",
    "### Deadline is 08.07.2020 at 11:55am.\n",
    "\n",
    "You can achieve 20 points, of which 10 points would count as bonus points.\n",
    "Please solve the assignments together with a partner.\n",
    "I will run every notebook. Make sure the code runs through. Select `Kernel` -> `Restart & Run All` to test it.\n",
    "Please strip the output from the cells, either select `Cell` -> `All Output` -> `Clear` or use the `nb_strip_output.py` script / git hook."
   ]
  },
  {
   "cell_type": "code",
   "execution_count": null,
   "metadata": {},
   "outputs": [],
   "source": [
    "# display the plots inside the notebook\n",
    "%matplotlib inline"
   ]
  },
  {
   "cell_type": "code",
   "execution_count": null,
   "metadata": {},
   "outputs": [],
   "source": [
    "import numpy as np\n",
    "import matplotlib.pyplot as plt\n",
    "import pylab\n",
    "from skimage.data import chelsea\n",
    "from skimage.color import rgb2gray, gray2rgb\n",
    "import pywt\n",
    "from PIL import Image\n",
    "\n",
    "pylab.rcParams['figure.figsize'] = (6, 6)   # This makes the plot bigger"
   ]
  },
  {
   "cell_type": "markdown",
   "metadata": {},
   "source": [
    "# Exercise 1 - Haar Matrix - 5 Points\n",
    "\n",
    "Write a function to create a 2Nx2N dimensional Haar matrix.\n",
    "\n",
    "Plot the 16x16 Haar matrix.\n",
    "\n"
   ]
  },
  {
   "cell_type": "code",
   "execution_count": null,
   "metadata": {
    "tags": []
   },
   "outputs": [],
   "source": [
    "def haar_matrix(n):\n",
    "    \"\"\"Returns the Haar matrix. N is a power of two.\"\"\"\n",
    "    power = int(np.log2(n)) + 1\n",
    "    h2 = np.array([[1,1],[1,-1]]) / np.sqrt(2)\n",
    "    result = h2.copy()\n",
    "    for i in range(2,power):\n",
    "        up = np.kron(result,[1,1])\n",
    "        down = np.kron(np.eye(result.shape[0]) , [1,-1])\n",
    "        result = np.concatenate((up,down)) / np.sqrt(2)\n",
    "    return result\n",
    "\n",
    " \n",
    "\n",
    "plt.imshow(haar_matrix(16), cmap='gray')\n",
    "plt.show()"
   ]
  },
  {
   "cell_type": "markdown",
   "metadata": {},
   "source": [
    "# Exercise 2 - Reconstruction error of Haar Transformation - 5 Points"
   ]
  },
  {
   "cell_type": "markdown",
   "metadata": {},
   "source": [
    "Use the matrix from exercise 1 to create the 2D-Haar-Wavelet spectrum of the cat (chelsea)\n",
    "image - similar to 2D-DFT or 2D-DCT. Display the coefficients, i.e., the\n",
    "result of your transformation.\n",
    "\n",
    "Now Erase 75 percent of coefficients - the 75 percent lowest\n",
    "coefficients by absolute value (set them to 0). Transform back, show the image and\n",
    "calculate and output the average quadratic reconstruction error."
   ]
  },
  {
   "cell_type": "code",
   "execution_count": null,
   "metadata": {
    "tags": []
   },
   "outputs": [],
   "source": [
    "def haar_trans_2d(img):\n",
    "    N = img.shape[0]\n",
    "    matrix = haar_matrix(N)\n",
    "    (cA, (cH, cV, cD)) = pywt.dwt2(img, 'haar')\n",
    "    up = np.concatenate((cA,cH), axis=1)\n",
    "    down = np.concatenate((cV,cD), axis=1)\n",
    "    res  = np.concatenate((up,down))\n",
    "    return matrix @ img @ matrix.T\n",
    "\n",
    "def haar_trans_2d_inv(coefficents):\n",
    "    N = coefficents.shape[0]\n",
    "    matrix = haar_matrix(N)\n",
    "    return matrix.T @ coefficents @ matrix\n",
    "\n",
    "def filter_coefficents(coefficents, factor=0.5): \n",
    "    eraseFactor = int(coefficents.shape[0] * factor)\n",
    "    coefficents[eraseFactor:] = 0\n",
    "    coefficents[:,eraseFactor:] = 0\n",
    "    return coefficents\n",
    "\n",
    "def avg_quadr_error(img1, img2):\n",
    "    return np.sum((img1 - img2) ** 2) / (img1.shape[0] * img1.shape[1])\n",
    "\n",
    "def padding(img):\n",
    "    x, y = img.shape[0], img.shape[1]\n",
    "    max_shape = max(x, y)\n",
    "    i = 1\n",
    "    while i <= max_shape:\n",
    "        i = i * 2\n",
    "    new_shape = np.zeros((i,i))\n",
    "    new_shape[:img.shape[0], :img.shape[1]] = img\n",
    "    return new_shape, x, y\n",
    "\n",
    "def re_pad(img, x, y):\n",
    "    new_shape = np.zeros((x, y))\n",
    "    new_shape[:x, :y] = img[:x, :y]\n",
    "    return new_shape\n",
    "\n",
    "cat = rgb2gray(chelsea())\n",
    "plt.subplot(131)\n",
    "plt.imshow(cat, cmap=\"gray\") #plot original image with original shape\n",
    "\n",
    "n_chelsea, x, y = padding(cat) # expand shape to next value of 2^n to multiply with haar matrix\n",
    "\n",
    "coeff = haar_trans_2d(n_chelsea)\n",
    "plt.subplot(132)\n",
    "plt.imshow(coeff)\n",
    "\n",
    "n_coeff = re_pad(coeff, x, y) # reshape to original shape to filter with not padded values\n",
    "\n",
    "coeff_filtered = filter_coefficents(n_coeff)\n",
    "\n",
    "n_coeff_filtered = padding(coeff_filtered) # expand shape again to 2^n to multiply with inverse haar matrix\n",
    "\n",
    "chelsea_filtered = haar_trans_2d_inv(n_coeff_filtered[0])\n",
    "\n",
    "n_chelsea_filtered = re_pad(chelsea_filtered, x, y) # reshape to original shape to plot image without padded values\n",
    "\n",
    "plt.subplot(133)\n",
    "plt.imshow(n_chelsea_filtered, cmap=\"gray\")\n",
    "plt.show()\n",
    "\n",
    "print(\n",
    "    \"Average quadratic error: \" \n",
    "    + str(avg_quadr_error(n_chelsea, chelsea_filtered))\n",
    ")"
   ]
  },
  {
   "cell_type": "markdown",
   "metadata": {},
   "source": [
    "# Exercise 3 - Blending - 10 Points\n",
    "\n",
    "a) Blend two images (fore.png, back.png, see blending-images.zip in the resources folder in the WhiteBoard (KVV)), by using pyramid blending. You can grayscale all images in order to have only one channel.\n",
    "Create two Laplace pyramids for the foreground and background image.\n",
    "Create a Gaussian pyramid for the blending mask image alpha.png. Plot the lowest 3 levels of the three pyramids.\n",
    "Then apply pyramid blending. Show the lowest 3 levels of the resulting Laplace pyramid and reconstruct the image. Show the blended image.\n",
    "\n",
    "As an input you can use the images alpha.png, back.png, fore.png given  or use your own images.\n",
    "You should not use any blending functions or functions which create the Laplacian or Gaussian pyramid for you. Feel free to use a method\n",
    "of your own choice for the REDUCE and EXPAND function (see slides), especially for the interpolations.\n",
    "\n",
    "b) Now blend, but not with the full pyramid as in a), instead use 2 levels and later 4 levels of the\n",
    "Laplacian / Gaussian pyramid, which only contains 2 or 4 levels.\n",
    "\n",
    "Plot the results (the blended images).\n"
   ]
  },
  {
   "cell_type": "markdown",
   "metadata": {},
   "source": [
    "# Calculation Time ~ 6min "
   ]
  },
  {
   "cell_type": "markdown",
   "metadata": {},
   "source": [
    "# TASK a) "
   ]
  },
  {
   "cell_type": "code",
   "execution_count": null,
   "metadata": {},
   "outputs": [],
   "source": [
    "#https://www.cs.toronto.edu/~mangas/teaching/320/slides/CSC320L10.pdf \n",
    "# Kernel from here ~ created the best results\n",
    "\n",
    "kernel = np.array([\n",
    "    [1/25, 1/25, 1/25, 1/25, 1/25],\n",
    "    [1/25, 1/25, 1/25, 1/25, 1/25],\n",
    "    [1/25, 1/25, 1/25, 1/25, 1/25],\n",
    "    [1/25, 1/25, 1/25, 1/25, 1/25],\n",
    "    [1/25, 1/25, 1/25, 1/25, 1/25] \n",
    "])"
   ]
  },
  {
   "cell_type": "code",
   "execution_count": null,
   "metadata": {},
   "outputs": [],
   "source": [
    "#Load Images\n",
    "direc = 'misc/' # directory of the sample pictures relative to your notebook\n",
    "front = np.array(Image.open(direc+'fore.png')) / 255\n",
    "back  = np.array(Image.open(direc+'back.png')) / 255\n",
    "mask  = np.array(Image.open(direc+'alpha.png')) / 255\n",
    "\n",
    "front = rgb2gray(front)\n",
    "back = rgb2gray(back)\n",
    "mask = rgb2gray(mask)"
   ]
  },
  {
   "cell_type": "code",
   "execution_count": null,
   "metadata": {},
   "outputs": [],
   "source": [
    "def reduce_(img):\n",
    "    x, y = img.shape[0]//2, img.shape[1]//2 \n",
    "    result = np.zeros((x, y))\n",
    "    for i in range(2, x-2):\n",
    "        for j in range(2, y-2):\n",
    "            pixel = 0\n",
    "            for m in range(-2, 3):\n",
    "                for n in range(-2, 3):\n",
    "                    pixel += kernel[m,n] * img[2*i-m, 2*j-n]\n",
    "            result[i,j] = pixel\n",
    "    return result\n",
    "\n",
    "def expand_(img):\n",
    "    x, y = img.shape[0]*2, img.shape[1]*2\n",
    "    result = np.zeros((x,y))\n",
    "    for i in range(2, x-2):\n",
    "        for j in range(2, y-2):\n",
    "            pixel = 0\n",
    "            for m in range(-2, 3):\n",
    "                for n in range(-2, 3):\n",
    "                    pixel += kernel[m,n] * img[(i-m)//2, (j-n)//2]\n",
    "            result[i,j] = pixel \n",
    "    return result\n",
    "\n",
    "def gaussian_pyramid(img, levels=-1):\n",
    "    tmp = img.copy()\n",
    "    result = []\n",
    "    result.append(tmp)\n",
    "    if levels == -1:\n",
    "        k = 32\n",
    "    else:\n",
    "        k = tmp.shape[0]\n",
    "        for i in range(levels):\n",
    "            k = k // 2\n",
    "    while tmp.shape[0] != k:\n",
    "        tmp = reduce_(tmp)\n",
    "        result.append(tmp)\n",
    "    return result\n",
    "\n",
    "def laplace_pyramid(lis):\n",
    "    result = []\n",
    "    for i in range(len(lis)-1):\n",
    "        first = lis[i]\n",
    "        second = lis[i+1]\n",
    "        second = expand_(second)\n",
    "        result.append(first - second)\n",
    "    return result\n",
    "\n",
    "def blending(g_mask, l_front, l_back):\n",
    "    x, y = g_mask.shape[0], g_mask.shape[1]\n",
    "    result = np.zeros((x, y))\n",
    "    for i in range(x):\n",
    "        for j in range(y):\n",
    "            result[i,j] = g_mask[i,j]*l_front[i,j] + (1-g_mask[i,j])*l_back[i,j]\n",
    "    return result\n",
    "\n",
    "def reconstructed_image(l_blended):\n",
    "    length = len(l_blended) -1 #we are going to take all leveles from blended images\n",
    "    erg = l_blended[length]\n",
    "    length -= 1\n",
    "    while length != -1:\n",
    "        erg = expand_(erg)\n",
    "        erg = l_blended[length] + erg\n",
    "        length -= 1\n",
    "    return erg\n",
    "\n",
    "def plot(list_):\n",
    "    k = len(list_) * 10//2\n",
    "    if k%2 == 1:\n",
    "        k += 5 #+5 to be able to plot 3 in row\n",
    "    numb = 201 + k\n",
    "    for i in range(len(list_)):\n",
    "        plt.subplot(numb)\n",
    "        plt.title(\"Gaussian-Pyramid \" + str(list_[i].shape))\n",
    "        plt.imshow(list_[i], cmap=\"gray\")\n",
    "        numb += 1\n",
    "    plt.show()"
   ]
  },
  {
   "cell_type": "code",
   "execution_count": null,
   "metadata": {
    "tags": []
   },
   "outputs": [],
   "source": [
    "g_pyramids_front = gaussian_pyramid(front)\n",
    "plot(g_pyramids_front)"
   ]
  },
  {
   "cell_type": "code",
   "execution_count": null,
   "metadata": {},
   "outputs": [],
   "source": [
    "g_pyramids_back = gaussian_pyramid(back)\n",
    "plot(g_pyramids_back)"
   ]
  },
  {
   "cell_type": "code",
   "execution_count": null,
   "metadata": {},
   "outputs": [],
   "source": [
    "g_pyramids_mask = gaussian_pyramid(mask)\n",
    "plot(g_pyramids_mask)"
   ]
  },
  {
   "cell_type": "code",
   "execution_count": null,
   "metadata": {},
   "outputs": [],
   "source": [
    "l_pyramids_front = laplace_pyramid(g_pyramids_front)\n",
    "plot(l_pyramids_front)"
   ]
  },
  {
   "cell_type": "code",
   "execution_count": null,
   "metadata": {
    "tags": []
   },
   "outputs": [],
   "source": [
    "l_pyramids_back = laplace_pyramid(g_pyramids_back)\n",
    "plot(l_pyramids_back)"
   ]
  },
  {
   "cell_type": "code",
   "execution_count": null,
   "metadata": {
    "tags": []
   },
   "outputs": [],
   "source": [
    "l_blended = []\n",
    "for i in range(len(l_pyramids_front)):\n",
    "    l_blended.append(blending(g_pyramids_mask[i], l_pyramids_front[i], l_pyramids_back[i]))\n",
    "plot(l_blended)"
   ]
  },
  {
   "cell_type": "code",
   "execution_count": null,
   "metadata": {
    "tags": []
   },
   "outputs": [],
   "source": [
    "end = reconstructed_image(l_blended) \n",
    "plt.imshow(end, cmap=\"gray\")\n",
    "plt.title(\"Reconstructed Image with all Levels\")\n",
    "plt.show()"
   ]
  },
  {
   "cell_type": "markdown",
   "metadata": {},
   "source": [
    "# TASK b) with 2 levels"
   ]
  },
  {
   "cell_type": "code",
   "execution_count": null,
   "metadata": {},
   "outputs": [],
   "source": [
    "g_pyramids_front = gaussian_pyramid(front, 2)\n",
    "#plot(g_pyramids_front)\n",
    "\n",
    "g_pyramids_back = gaussian_pyramid(back, 2)\n",
    "#plot(g_pyramids_back)\n",
    "\n",
    "g_pyramids_mask = gaussian_pyramid(mask, 2)\n",
    "#plot(g_pyramids_mask)\n",
    "\n",
    "l_pyramids_front = laplace_pyramid(g_pyramids_front)\n",
    "#plot(l_pyramids_front)\n",
    "\n",
    "l_pyramids_back = laplace_pyramid(g_pyramids_back)\n",
    "#plot(l_pyramids_back)\n",
    "\n",
    "l_blended = []\n",
    "for i in range(len(l_pyramids_front)):\n",
    "    l_blended.append(blending(g_pyramids_mask[i], l_pyramids_front[i], l_pyramids_back[i]))\n",
    "plot(l_blended)\n",
    "\n",
    "end = reconstructed_image(l_blended) \n",
    "plt.imshow(end, cmap=\"gray\")\n",
    "plt.title(\"Reconstructed Image with 2 Levels\")\n",
    "plt.show()"
   ]
  },
  {
   "cell_type": "markdown",
   "metadata": {},
   "source": [
    "# TASK b) with 4 Levels"
   ]
  },
  {
   "cell_type": "code",
   "execution_count": null,
   "metadata": {},
   "outputs": [],
   "source": [
    "g_pyramids_front = gaussian_pyramid(front, 4)\n",
    "#plot(g_pyramids_front)\n",
    "\n",
    "g_pyramids_back = gaussian_pyramid(back, 4)\n",
    "#plot(g_pyramids_back)\n",
    "\n",
    "g_pyramids_mask = gaussian_pyramid(mask, 4)\n",
    "#plot(g_pyramids_mask)\n",
    "\n",
    "l_pyramids_front = laplace_pyramid(g_pyramids_front)\n",
    "#plot(l_pyramids_front)\n",
    "\n",
    "l_pyramids_back = laplace_pyramid(g_pyramids_back)\n",
    "#plot(l_pyramids_back)\n",
    "\n",
    "l_blended = []\n",
    "for i in range(len(l_pyramids_front)):\n",
    "    l_blended.append(blending(g_pyramids_mask[i], l_pyramids_front[i], l_pyramids_back[i]))\n",
    "#plot(l_blended)\n",
    "\n",
    "end = reconstructed_image(l_blended) \n",
    "plt.imshow(end, cmap=\"gray\")\n",
    "plt.title(\"Reconstructed Image with 4 Levels\")\n",
    "plt.show()"
   ]
  },
  {
   "cell_type": "code",
   "execution_count": null,
   "metadata": {},
   "outputs": [],
   "source": []
  }
 ],
 "metadata": {
  "kernelspec": {
   "display_name": "Python 3.7.3 64-bit ('base': conda)",
   "language": "python",
   "name": "python37364bitbasecondabd88c407e14c40be84e83b5bdd135b46"
  },
  "language_info": {
   "codemirror_mode": {
    "name": "ipython",
    "version": 3
   },
   "file_extension": ".py",
   "mimetype": "text/x-python",
   "name": "python",
   "nbconvert_exporter": "python",
   "pygments_lexer": "ipython3",
   "version": "3.7.0-final"
  }
 },
 "nbformat": 4,
 "nbformat_minor": 1
}