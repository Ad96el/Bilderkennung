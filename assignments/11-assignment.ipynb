{
 "cells": [
  {
   "cell_type": "markdown",
   "metadata": {},
   "source": [
    "# Image Processing SS 20 - Assignment - 11\n",
    "\n",
    "### Deadline is 08.07.2020 at 11:55am.\n",
    "\n",
    "You can achieve 20 points, of which 10 points would count as bonus points (Zusatzpunkte)\n"
    "Please solve the assignments together with a partner.\n",
    "I will run every notebook. Make sure the code runs through. Select `Kernel` -> `Restart & Run All` to test it.\n",
    "Please strip the output from the cells, either select `Cell` -> `All Output` -> `Clear` or use the `nb_strip_output.py` script / git hook."
   ]
  },
  {
   "cell_type": "code",
   "execution_count": null,
   "metadata": {},
   "outputs": [],
   "source": [
    "# display the plots inside the notebook\n",
    "%matplotlib inline"
   ]
  },
  {
   "cell_type": "code",
   "execution_count": null,
   "metadata": {},
   "outputs": [],
   "source": [
    "import numpy as np\n",
    "import matplotlib.pyplot as plt\n",
    "import pylab\n",
    "from skimage.data import astronaut\n",
    "from skimage.color import rgb2gray\n",
    "\n",
    "pylab.rcParams['figure.figsize'] = (12, 12)   # This makes the plot bigger"
   ]
  },
  {
   "cell_type": "markdown",
   "metadata": {},
   "source": [
    "# Exercise 1 - Haar Matrix - 5 Points\n",
    "\n",
    "Write a function to create a 2Nx2N dimensional Haar matrix.\n",
    "\n",
    "Plot the 16x16 Haar matrix.\n",
    "\n"
   ]
  },
  {
   "cell_type": "code",
   "execution_count": null,
   "metadata": {},
   "outputs": [],
   "source": [
    "def haar_matrix(n):\n",
    "    \"\"\"Returns the Haar matrix. N is a power of two.\"\"\"\n",
    "    # your code here\n",
    "    return np.zeros((n, n))\n",
    "\n",
    "plt.imshow(haar_matrix(16), cmap='gray')\n",
    "plt.show()"
   ]
  },
  {
   "cell_type": "markdown",
   "metadata": {},
   "source": [
    "# Exercise 2 - Reconstruction error of Haar Transformation - 5 Points"
   ]
  },
  {
   "cell_type": "markdown",
   "metadata": {},
   "source": [
    "Use the matrix from exercise 1 to create the 2D-Haar-Wavelet spectrum of the cat (chelsea)\n",
    "image - similar to 2D-DFT or 2D-DCT. Display the coefficients, i.e., the\n",
    "result of your transformation.\n",
    "\n",
    "Now Erase 75 percent of coefficients - the 75 percent lowest\n",
    "coefficients by absolute value (set them to 0). Transform back, show the image and\n",
    "calculate and output the average quadratic reconstruction error."
   ]
  },
  {
   "cell_type": "code",
   "execution_count": null,
   "metadata": {},
   "outputs": [],
   "source": [
    "def haar_trans_2d(img):\n",
    "    # Your code here\n",
    "    return np.ones(img.shape)\n",
    "\n",
    "def haar_trans_2d_inv(coefficents):\n",
    "    # Your code here\n",
    "    return np.ones(coefficents.shape)\n",
    "\n",
    "def filter_coefficents(coefficents):\n",
    "    # Your code here\n",
    "    return coefficents\n",
    "\n",
    "def avg_quadr_error(img1, img2):\n",
    "    # Your code here\n",
    "    return 0\n",
    "\n",
    "astro = rgb2gray(astronaut())\n",
    "plt.subplot(131)\n",
    "plt.imshow(astro, cmap=\"gray\")\n",
    "\n",
    "coeff = haar_trans_2d(astro)\n",
    "plt.subplot(132)\n",
    "plt.imshow(coeff)\n",
    "\n",
    "coeff_filtered = filter_coefficents(coeff)\n",
    "astro_filtered = haar_trans_2d_inv(coeff_filtered)\n",
    "\n",
    "plt.subplot(133)\n",
    "plt.imshow(astro_filtered, cmap=\"gray\")\n",
    "plt.show()\n",
    "\n",
    "print(\n",
    "    \"Average quadratic error: \" \n",
    "    + str(avg_quadr_error(astro, astro_filtered))\n",
    ")"
   ]
  },
  {
   "cell_type": "markdown",
   "metadata": {},
   "source": [
    "# Exercise 3 - Blending - 10 Points\n",
    "\n",
    "a) Blend two images (fore.png, back.png, see blending-images.zip in the resources folder in the WhiteBoard (KVV)), by using pyramid blending. You can grayscale all images in order to have only one channel.\n",
    "Create two Laplace pyramids for the foreground and background image.\n",
    "Create a Gaussian pyramid for the blending mask image alpha.png. Plot the lowest 3 levels of the three pyramids.\n",
    "Then apply pyramid blending. Show the lowest 3 levels of the resulting Laplace pyramid and reconstruct the image. Show the blended image.\n",
    "\n",
    "As an input you can use the images alpha.png, back.png, fore.png given  or use your own images.\n",
    "You should not use any blending functions or functions which create the Laplacian or Gaussian pyramid for you. Feel free to use a method\n",
    "of your own choice for the REDUCE and EXPAND function (see slides), especially for the interpolations.\n",
    "\n",
    "b) Now blend, but not with the full pyramid as in a), instead use 2 levels and later 4 levels of the\n",
    "Laplacian / Gaussian pyramid, which only contains 2 or 4 levels.\n",
    "\n",
    "Plot the results (the blended images).\n"
   ]
  }
 ],
 "metadata": {
  "kernelspec": {
   "display_name": "Python 3",
   "language": "python",
   "name": "python3"
  },
  "language_info": {
   "codemirror_mode": {
    "name": "ipython",
    "version": 3
   },
   "file_extension": ".py",
   "mimetype": "text/x-python",
   "name": "python",
   "nbconvert_exporter": "python",
   "pygments_lexer": "ipython3",
   "version": "3.5.2"
  }
 },
 "nbformat": 4,
 "nbformat_minor": 1
}
