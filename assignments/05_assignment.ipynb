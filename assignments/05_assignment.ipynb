{
 "cells": [
  {
   "cell_type": "markdown",
   "metadata": {},
   "source": [
    "# Image Processing SS 20 - Assignment - 05\n",
    "\n",
    "### Deadline is 27.5.2020 at 11:55am\n",
    "\n",
    "Please solve the assignments together with a partner.\n",
    "I will run every notebook. Make sure the code runs through. Select `Kernel` -> `Restart & Run All` to test it.\n",
    "Please strip the output from the cells, either select `Cell` -> `All Output` -> `Clear` or use the `nb_strip_output.py` script / git hook."
   ]
  },
  {
   "cell_type": "code",
   "execution_count": null,
   "metadata": {},
   "outputs": [],
   "source": [
    "# display the plots inside the notebook\n",
    "%matplotlib inline"
   ]
  },
  {
   "cell_type": "code",
   "execution_count": null,
   "metadata": {},
   "outputs": [],
   "source": [
    "import numpy as np\n",
    "import matplotlib.pyplot as plt\n",
    "import pylab\n",
    "from skimage.data import chelsea\n",
    "from skimage.color import rgb2gray\n",
    "\n",
    "import random\n",
    "from io import BytesIO\n",
    "    \n",
    "from PIL import Image\n",
    "import itertools\n",
    "\n",
    "pylab.rcParams['figure.figsize'] = (12, 8)   # This makes the plot bigger"
   ]
  },
  {
   "cell_type": "markdown",
   "metadata": {},
   "source": [
    "# Exercise 1 - Filters - 5 Points\n",
    "\n",
    "Implement and apply the filters below to noisy images. Plot the noisy image vs the filtered one"
   ]
  },
  {
   "cell_type": "code",
   "execution_count": null,
   "metadata": {},
   "outputs": [],
   "source": [
    "img = rgb2gray(chelsea() / 255.)\n",
    "img.shape"
   ]
  },
  {
   "cell_type": "code",
   "execution_count": null,
   "metadata": {},
   "outputs": [],
   "source": [
    "def salt_peper(img, p):\n",
    "    peper_mask = np.random.binomial(1, p, img.shape).astype(np.bool)\n",
    "    salt_mask = np.random.binomial(1, p, img.shape).astype(np.bool)\n",
    "    img_noise = img.copy()\n",
    "    img_noise[peper_mask] = 0\n",
    "    img_noise[salt_mask] = 1\n",
    "    return img_noise\n",
    "\n",
    "salt_peper_noises = [0.01, 0.03, 0.1]\n",
    "imgs_salt_peper = [salt_peper(img, p) for p in salt_peper_noises]\n",
    "for img_salt_peper in imgs_salt_peper:\n",
    "    plt.imshow(img_salt_peper, cmap='gray')\n",
    "    plt.show()"
   ]
  },
  {
   "cell_type": "code",
   "execution_count": null,
   "metadata": {},
   "outputs": [],
   "source": [
    "def gaussian_noise(img, std):\n",
    "    return np.clip(img + np.random.normal(0, std, img.shape), 0, 1)\n",
    "\n",
    "gaussian_noises = (0.05, 0.10, 0.2)\n",
    "imgs_gaussian_noise = [gaussian_noise(img, s) for s in gaussian_noises]\n",
    "for img_gaussian in imgs_gaussian_noise:\n",
    "    plt.imshow(img_gaussian, cmap='gray')\n",
    "    plt.show()"
   ]
  },
  {
   "cell_type": "code",
   "execution_count": null,
   "metadata": {},
   "outputs": [],
   "source": [
    "# implement the filters:\n",
    "\n",
    "#create 3x3 matrix\n",
    "def arithmetic_mean(img):\n",
    "    out = np.zeros_like(img)\n",
    "    x, y = img.shape\n",
    "    for i in range(1, x - 1):\n",
    "        for j in range(1, y - 1):\n",
    "            val = 0\n",
    "            for k in range(-1, 2):\n",
    "                for l in range(-1, 2):\n",
    "                    val += img[i + k, j + l]\n",
    "            out[i, j] = val / (1/9)\n",
    "    return out\n",
    "\n",
    "#create 3x3 matrix\n",
    "def geometric_mean(img):\n",
    "    out = np.zeros_like(img)\n",
    "    x, y = img.shape\n",
    "    for i in range(1, x - 1):\n",
    "        for j in range(1, y - 1):\n",
    "            val = 1\n",
    "            for k in range(-1, 2):\n",
    "                for l in range(-1, 2):\n",
    "                    val *= img[i + k, j + l]\n",
    "            out[i, j] = val ** (1/9)\n",
    "    return out\n",
    "\n",
    "#create 3x3\n",
    "def harmonic_mean(img):\n",
    "    out = np.zeros_like(img)\n",
    "    x, y = img.shape\n",
    "    for i in range(1, x - 1):\n",
    "       for j in range(1, y - 1):\n",
    "           val = 0\n",
    "           for k in range(-1, 2):\n",
    "               for l in range(-1, 2):\n",
    "                   val += ( 1 / (img[i + k, j + l]) )\n",
    "           out[i, j] = 9 / val\n",
    "    return out\n",
    "\n",
    "def contraharmoic_mean(img, q=-1):\n",
    "    out = np.zeros_like(img)\n",
    "    x, y = img.shape\n",
    "    for i in range(x - 1):\n",
    "        for j in range(y - 1):\n",
    "            counter = 0\n",
    "            caller = 0\n",
    "            for k in range(-1, 2):\n",
    "                for l in range(-1, 2):\n",
    "                    counter += (img[i + k, j + l] ** (q + 1))\n",
    "                    caller += (img[i + k, j + l] ** (q))\n",
    "            out[i, j] = counter / caller\n",
    "    return out\n",
    "\n",
    "def adaptive_mean(img):\n",
    "    return img\n",
    "\n",
    "def adaptive_median(img):\n",
    "    return img\n"
   ]
  },
  {
   "cell_type": "code",
   "execution_count": null,
   "metadata": {},
   "outputs": [],
   "source": [
    "filters = [arithmetic_mean, geometric_mean, contraharmoic_mean, \n",
    "           adaptive_mean, adaptive_median]\n",
    "for filter in filters:\n",
    "    for sp, img_sp in zip(salt_peper_noises, imgs_salt_peper):\n",
    "        plt.suptitle(filter.__name__ + \", salt peper noise: {}\".format(sp))\n",
    "        plt.subplot(221)\n",
    "        plt.imshow(img_sp, cmap='gray')\n",
    "        plt.subplot(222)\n",
    "        plt.imshow(filter(img_sp.copy()), cmap='gray')\n",
    "        plt.show()\n"
   ]
  },
  {
   "cell_type": "code",
   "execution_count": null,
   "metadata": {},
   "outputs": [],
   "source": [
    "for filter in filters:\n",
    "    for gn, img_gn in zip(gaussian_noises, imgs_gaussian_noise):\n",
    "        plt.suptitle(filter.__name__ + \", gaussian noise: {}\".format(gn))\n",
    "        plt.subplot(221)\n",
    "        plt.imshow(img_gn, cmap='gray')\n",
    "        plt.subplot(222)\n",
    "        plt.imshow(filter(img_gn.copy()), cmap='gray')\n",
    "        plt.show()"
   ]
  },
  {
   "cell_type": "markdown",
   "metadata": {},
   "source": [
    "# Exercise 2 - Sharpening - 5 Points\n",
    "\n",
    "Sharpen the image `img_blurry`. You need to implement the `sharp_laplacian` and `unsharp_masking` functions. You might\n",
    "consider some processing steps before sharpening."
   ]
  },
  {
   "cell_type": "code",
   "execution_count": null,
   "metadata": {},
   "outputs": [],
   "source": [
    "from skimage.filters import gaussian"
   ]
  },
  {
   "cell_type": "code",
   "execution_count": null,
   "metadata": {},
   "outputs": [],
   "source": [
    "img_blurry = gaussian_noise(gaussian(img , 1.6), 0.07)\n",
    "plt.imshow(img_blurry, cmap='gray')"
   ]
  },
  {
   "cell_type": "code",
   "execution_count": null,
   "metadata": {},
   "outputs": [],
   "source": [
    "# ATTENTION: First call one of the filter func to remove pepper \n",
    "def sharp_laplacian(img_unfiltered, w):\n",
    "    \"\"\"Perform sharpening with a laplacian filter\"\"\"\n",
    "\n",
    "    img = harmonic_mean(img_unfiltered)\n",
    "    x, y = img.shape\n",
    "    laplacian_filter = np.zeros_like(img)\n",
    "    result = np.zeros_like(img)\n",
    "\n",
    "    for i in range(1, x - 1):\n",
    "        for j in range(1, y - 1):\n",
    "            pixel_calc = 0\n",
    "            for k in range(-1, 2):\n",
    "                for l in range(-1, 2):\n",
    "                    pixel_calc += w[k, l] * img[i - k, j - l]\n",
    "                laplacian_filter[i, j] = pixel_calc   \n",
    "    for i in range(1, x - 1):\n",
    "        for j in range(1, y - 1):\n",
    "            result[i,j] = img[i,j] + laplacian_filter[i,j]\n",
    "\n",
    "    return result\n",
    "\n",
    "#Crop handling, 3x3 Box Blur\n",
    "# ATTENTION: First call one of the filter func to remove gaussian noise, here harmonic_mean but in my opinion the result is more blured\n",
    "def unsharp_masking(img_unfiltered, w):\n",
    "    \"\"\"Perform sharpening by unsharp masking\"\"\"\n",
    "\n",
    "    img = harmonic_mean(img_unfiltered)\n",
    "    plt.imshow(img, cmap='gray')\n",
    "    plt.show()\n",
    "\n",
    "    #img = img_unfiltered.copy()\n",
    "\n",
    "    #1nd step: blur the original\n",
    "    blurry_img = np.zeros_like(img)\n",
    "    x, y = img.shape\n",
    "    for i in range(1, x-1): #exclude edge\n",
    "        for j in range(1, y-1): #exclude edge\n",
    "            pixel_calc = 0\n",
    "            for k in range(-1, 2):\n",
    "                for l in range(-1, 2):\n",
    "                    pixel_calc += w[k, l] * img[i - k, j - l]\n",
    "            blurry_img[i, j] = pixel_calc\n",
    "\n",
    "    plt.imshow(blurry_img, cmap='gray')\n",
    "    plt.show()\n",
    "    \n",
    "\n",
    "    #2nd step: subtract the blurred image from the original\n",
    "    sub_difference = np.zeros_like(img)\n",
    "    for i in range(1, x-1):\n",
    "        for j in range(1, y-1):\n",
    "            sub_difference[i, j] = img[i, j] - blurry_img[i, j]\n",
    "    \n",
    "    plt.imshow(sub_difference, cmap='gray')\n",
    "    plt.show()\n",
    "    \n",
    "    #3nd step: add the result to the original\n",
    "    result = np.zeros_like(img)\n",
    "    for i in range(1, x-1):\n",
    "        for j in range(1, y-1):\n",
    "            result[i, j] = img[i, j] + sub_difference[i, j] #if - instead + result seems better\n",
    "    \n",
    "    return result"
   ]
  },
  {
   "cell_type": "code",
   "execution_count": null,
   "metadata": {},
   "outputs": [],
   "source": [
    "w = np.array([ [0, 1, 0], [1, -4, 1], [0, 1, 0] ])\n",
    "plt.imshow(sharp_laplacian(img_blurry, w), cmap='gray')\n",
    "plt.show()"
   ]
  },
  {
   "cell_type": "code",
   "execution_count": null,
   "metadata": {},
   "outputs": [],
   "source": [
    "w = (1 / 9) * np.array([ [1,1,1], [1,1,1], [1,1,1] ]) #blurry matrix\n",
    "#w = (1 / 16) * np.array([ [1,2,1], [2,4,2], [1,2,1] ]) #blurry matrix\n",
    "plt.imshow(unsharp_masking(img_blurry, w), cmap='gray')\n",
    "plt.show()\n",
    "\n",
    "#Why is the result of the example != from the slides, although the example of the slide is correct?\n",
    "# test = np.array([ [7, 0, 1, 1], [3, 5, 7, 4], [4, 6, 3, 0], [6, 2, 9, 0] ])\n",
    "# print(unsharp_masking(test, w))"
   ]
  },
  {
   "cell_type": "code",
   "execution_count": null,
   "metadata": {},
   "outputs": [],
   "source": [
    "#--------------Testing harmonic_mean------------------------\n",
    "\n",
    "#create 3x3, normaly in the result matrix should be floats, but there are ints\n",
    "def t_harmonic_mean(img):\n",
    "    out = np.zeros_like(img)\n",
    "    x, y = img.shape\n",
    "    for i in range(1, x - 1):\n",
    "       for j in range(1, y - 1):\n",
    "           val = 0\n",
    "           for k in range(-1, 2):\n",
    "               for l in range(-1, 2):\n",
    "                   val += ( 1 / (img[i + k, j + l]) )\n",
    "           out[i, j] = 9 / val\n",
    "    return out\n",
    "\n",
    "arr1 = np.array([[1, 3, 27],  \n",
    "        [3, 4, 6],  \n",
    "        [7, 6, 3],  \n",
    "        [3, 6, 8]])  \n",
    "\n",
    "t_harmonic_mean(arr1)"
   ]
  },
  {
   "cell_type": "code",
   "execution_count": null,
   "metadata": {},
   "outputs": [],
   "source": []
  }
 ],
 "metadata": {
  "kernelspec": {
   "display_name": "Python 3",
   "language": "python",
   "name": "python3"
  },
  "language_info": {
   "codemirror_mode": {
    "name": "ipython",
    "version": 3
   },
   "file_extension": ".py",
   "mimetype": "text/x-python",
   "name": "python",
   "nbconvert_exporter": "python",
   "pygments_lexer": "ipython3",
   "version": "3.8.2-final"
  }
 },
 "nbformat": 4,
 "nbformat_minor": 1
}