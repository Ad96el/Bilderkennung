{
 "cells": [
  {
   "cell_type": "markdown",
   "metadata": {},
   "source": [
    "# Image Processing SS 20 - Assignment - 05\n",
    "\n",
    "### Deadline is 27.5.2020 at 11:55am\n",
    "\n",
    "Please solve the assignments together with a partner.\n",
    "I will run every notebook. Make sure the code runs through. Select `Kernel` -> `Restart & Run All` to test it.\n",
    "Please strip the output from the cells, either select `Cell` -> `All Output` -> `Clear` or use the `nb_strip_output.py` script / git hook."
   ]
  },
  {
   "cell_type": "code",
   "execution_count": null,
   "metadata": {},
   "outputs": [],
   "source": [
    "# display the plots inside the notebook\n",
    "%matplotlib inline"
   ]
  },
  {
   "cell_type": "code",
   "execution_count": null,
   "metadata": {},
   "outputs": [],
   "source": [
    "import numpy as np\n",
    "import matplotlib.pyplot as plt\n",
    "import pylab\n",
    "from skimage.data import chelsea\n",
    "from skimage.color import rgb2gray\n",
    "\n",
    "import random\n",
    "from io import BytesIO\n",
    "import cv2\n",
    "from PIL import Image\n",
    "import itertools\n",
    "\n",
    "pylab.rcParams['figure.figsize'] = (12, 8)   # This makes the plot bigger"
   ]
  },
  {
   "cell_type": "markdown",
   "metadata": {},
   "source": [
    "# Exercise 1 - Filters - 5 Points\n",
    "\n",
    "Implement and apply the filters below to noisy images. Plot the noisy image vs the filtered one"
   ]
  },
  {
   "cell_type": "code",
   "execution_count": null,
   "metadata": {},
   "outputs": [],
   "source": [
    "img = rgb2gray(chelsea() / 255.)\n",
    "img.shape"
   ]
  },
  {
   "cell_type": "code",
   "execution_count": null,
   "metadata": {},
   "outputs": [],
   "source": [
    "def salt_peper(img, p):\n",
    "    peper_mask = np.random.binomial(1, p, img.shape).astype(np.bool)\n",
    "    salt_mask = np.random.binomial(1, p, img.shape).astype(np.bool)\n",
    "    img_noise = img.copy()\n",
    "    img_noise[peper_mask] = 0\n",
    "    img_noise[salt_mask] = 1\n",
    "    return img_noise\n",
    "\n",
    "salt_peper_noises = [0.01, 0.03, 0.1]\n",
    "imgs_salt_peper = [salt_peper(img, p) for p in salt_peper_noises]\n",
    "for img_salt_peper in imgs_salt_peper:\n",
    "    plt.imshow(img_salt_peper, cmap='gray')\n",
    "    plt.show()"
   ]
  },
  {
   "cell_type": "code",
   "execution_count": null,
   "metadata": {},
   "outputs": [],
   "source": [
    "def gaussian_noise(img, std):\n",
    "    return np.clip(img + np.random.normal(0, std, img.shape), 0, 1)\n",
    "\n",
    "gaussian_noises = (0.05, 0.10, 0.2)\n",
    "imgs_gaussian_noise = [gaussian_noise(img, s) for s in gaussian_noises]\n",
    "for img_gaussian in imgs_gaussian_noise:\n",
    "    plt.imshow(img_gaussian, cmap='gray')\n",
    "    plt.show()"
   ]
  },
  {
   "cell_type": "code",
   "execution_count": null,
   "metadata": {},
   "outputs": [],
   "source": [
    "def arithmetic_mean(img):\n",
    "    out = np.zeros_like(img)\n",
    "    x, y = img.shape\n",
    "    for i in range(3, x - 3):\n",
    "        for j in range(3, y - 3):\n",
    "            val = 0\n",
    "            for k in range(-3, 4):\n",
    "                for l in range(-3, 4):\n",
    "                    val += img[i + k, j + l]\n",
    "            out[i, j] = val / (1/49)\n",
    "    return out\n",
    "\n",
    "def geometric_mean(img):\n",
    "    out = np.zeros_like(img)\n",
    "    x, y = img.shape\n",
    "    for i in range(1, x - 1):\n",
    "        for j in range(1, y - 1):\n",
    "            val = 1\n",
    "            for k in range(-1, 2):\n",
    "                for l in range(-1, 2):\n",
    "                    val *= img[i + k, j + l]\n",
    "            out[i, j] = val ** (1/9)\n",
    "    return out\n",
    "\n",
    "def harmonic_mean(img):\n",
    "    out = np.zeros_like(img)\n",
    "    x, y = img.shape\n",
    "    for i in range(1, x - 1):\n",
    "       for j in range(1, y - 1):\n",
    "           val = 0\n",
    "           for k in range(-1, 2):\n",
    "               for l in range(-1, 2):\n",
    "                   val += ( 1 / (img[i + k, j + l]) )\n",
    "           out[i, j] = 9 / val\n",
    "    return out\n",
    "\n",
    "def contraharmoic_mean(img, q=-1):\n",
    "    out = np.zeros_like(img)\n",
    "    x, y = img.shape\n",
    "    for i in range(1,x - 1):\n",
    "        for j in range(1,y - 1):\n",
    "            counter = 0\n",
    "            denominator = 0\n",
    "            for k in range(-1, 2):\n",
    "                for l in range(-1, 2):\n",
    "                    counter += (img[i + k, j + l] ** (q + 1))\n",
    "                    denominator += (img[i + k, j + l] ** (q))\n",
    "            out[i, j] = counter / denominator\n",
    "    return out\n",
    "\n",
    "\n",
    "def sampling(x,i,j):\n",
    "    result = np.zeros((7,7))\n",
    "    for k in range(-3,4): \n",
    "        for l in range(-3,4): \n",
    "            result[k,l] = x[i+k,j+l] \n",
    "    return result\n",
    "\n",
    "\n",
    "def adaptive_mean(img):\n",
    "    out        = np.zeros_like(img)\n",
    "    x, y       = img.shape\n",
    "    var_global = np.std(img)\n",
    "    for i in range(3,x - 3):\n",
    "        for j in range(3,y - 3):\n",
    "            window = sampling(img, i,j)\n",
    "            var_local = np.std(window)\n",
    "            m         = np.mean(window)\n",
    "            out[i,j] = img[i,j] - (var_global / var_local) * (img[i,j] - m)\n",
    "    return out\n",
    "\n",
    "def adaptive_median(img):\n",
    "    out        = np.zeros_like(img)\n",
    "    x, y       = img.shape\n",
    "    var_global = np.std(img)\n",
    "    for i in range(3,x - 3):\n",
    "        for j in range(3,y - 3):\n",
    "            window = sampling(img, i,j)\n",
    "            var_local = np.std(window)\n",
    "            m         = np.median(window)\n",
    "            out[i,j] = img[i,j] - (var_global / var_local) * (img[i,j] - m)\n",
    "    return out\n"
   ]
  },
  {
   "cell_type": "code",
   "execution_count": null,
   "metadata": {},
   "outputs": [],
   "source": [
    "filters = [arithmetic_mean, geometric_mean, harmonic_mean, adaptive_mean, contraharmoic_mean, adaptive_median]"
   ]
  },
  {
   "cell_type": "code",
   "execution_count": null,
   "metadata": {},
   "outputs": [],
   "source": [
    "\n",
    "for filter in filters:\n",
    "    for sp, img_sp in zip(salt_peper_noises, imgs_salt_peper):\n",
    "        plt.suptitle(filter.__name__ + \", salt peper noise: {}\".format(sp))\n",
    "        plt.subplot(221)\n",
    "        plt.imshow(img_sp, cmap='gray')\n",
    "        plt.subplot(222)\n",
    "        plt.imshow(filter(img_sp.copy()), cmap='gray')\n",
    "        plt.show()\n"
   ]
  },
  {
   "cell_type": "code",
   "execution_count": null,
   "metadata": {},
   "outputs": [],
   "source": [
    "for filter in filters:\n",
    "    for gn, img_gn in zip(gaussian_noises, imgs_gaussian_noise):\n",
    "        plt.suptitle(filter.__name__ + \", gaussian noise: {}\".format(gn))\n",
    "        plt.subplot(221)\n",
    "        plt.imshow(img_gn, cmap='gray')\n",
    "        plt.subplot(222)\n",
    "        plt.imshow(filter(img_gn.copy()), cmap='gray')\n",
    "        plt.show()"
   ]
  },
  {
   "cell_type": "markdown",
   "metadata": {},
   "source": [
    "# Exercise 2 - Sharpening - 5 Points\n",
    "\n",
    "Sharpen the image `img_blurry`. You need to implement the `sharp_laplacian` and `unsharp_masking` functions. You might\n",
    "consider some processing steps before sharpening."
   ]
  },
  {
   "cell_type": "code",
   "execution_count": null,
   "metadata": {},
   "outputs": [],
   "source": [
    "from skimage.filters import gaussian"
   ]
  },
  {
   "cell_type": "code",
   "execution_count": null,
   "metadata": {},
   "outputs": [],
   "source": [
    "img_blurry = gaussian_noise(gaussian(img , 1.6), 0.07)\n",
    "plt.imshow(img_blurry, cmap='gray')"
   ]
  },
  {
   "cell_type": "code",
   "execution_count": null,
   "metadata": {},
   "outputs": [],
   "source": [
    "def sharp_laplacian(img):\n",
    "    \"\"\"Perform sharpening with a laplacian filter\"\"\"\n",
    "    w = np.array([ [0, 1, 0], [1, -4, 1], [0, 1, 0] ]) \n",
    "    x, y = img.shape\n",
    "    laplacian_filter = np.zeros_like(img)\n",
    "\n",
    "    for i in range(1, x - 1):\n",
    "        for j in range(1, y - 1):\n",
    "            pixel_calc = 0\n",
    "            for k in range(-1, 2):\n",
    "                for l in range(-1, 2):\n",
    "                    pixel_calc += w[k, l] * img[i - k, j - l]\n",
    "                laplacian_filter[i, j] = pixel_calc   \n",
    "\n",
    "    return  laplacian_filter\n",
    "\n",
    "\n",
    "def unsharp_masking(img):\n",
    "    \"\"\"Perform sharpening by unsharp masking\"\"\"\n",
    "    w = (1 / 9) * np.array([ [1,1,1], [1,1,1], [1,1,1] ])\n",
    "    blurry_img = np.zeros_like(img)\n",
    "    x, y = img.shape\n",
    "    for i in range(1, x-1): \n",
    "        for j in range(1, y-1): \n",
    "            pixel_calc = 0\n",
    "            for k in range(-1, 2):\n",
    "                for l in range(-1, 2):\n",
    "                    pixel_calc += w[k, l] * img[i - k, j - l]\n",
    "            blurry_img[i, j] = pixel_calc\n",
    " \n",
    "    return img - blurry_img"
   ]
  },
  {
   "cell_type": "code",
   "execution_count": null,
   "metadata": {},
   "outputs": [],
   "source": [
    "img_filtered = arithmetic_mean(img_blurry) \n",
    "shapred_masking = sharp_laplacian(img_filtered)\n",
    "plt.figure(figsize=(11,9))\n",
    "\n",
    "plt.subplot(141), plt.imshow( img_blurry , cmap='gray'),plt.title('Original')\n",
    "plt.xticks([]), plt.yticks([])\n",
    "plt.subplot(142), plt.imshow( img_filtered, cmap='gray'),plt.title('Original + filter')\n",
    "plt.xticks([]), plt.yticks([])\n",
    "plt.subplot(143), plt.imshow(shapred_masking, cmap='gray'),plt.title('mask')\n",
    "plt.xticks([]), plt.yticks([])\n",
    "plt.subplot(144), plt.imshow(img_filtered + shapred_masking , cmap='gray'),plt.title('mask + (Original + filter)')\n",
    "plt.xticks([]), plt.yticks([])\n",
    "plt.show()"
   ]
  },
  {
   "cell_type": "code",
   "execution_count": null,
   "metadata": {},
   "outputs": [],
   "source": [
    "img_filtered = arithmetic_mean(img_blurry) \n",
    "shapred_masking = unsharp_masking(img_filtered)\n",
    "plt.figure(figsize=(11,9))\n",
    "\n",
    "plt.subplot(141), plt.imshow( img_blurry , cmap='gray'),plt.title('Original')\n",
    "plt.xticks([]), plt.yticks([])\n",
    "plt.subplot(142), plt.imshow( img_filtered, cmap='gray'),plt.title('Original + filter')\n",
    "plt.xticks([]), plt.yticks([])\n",
    "plt.subplot(143), plt.imshow(shapred_masking, cmap='gray'),plt.title('mask')\n",
    "plt.xticks([]), plt.yticks([])\n",
    "plt.subplot(144), plt.imshow(img_filtered + shapred_masking , cmap='gray'),plt.title('mask + (Original + filter)')\n",
    "plt.xticks([]), plt.yticks([])\n",
    "plt.show()"
   ]
  }
 ],
 "metadata": {
  "kernelspec": {
   "display_name": "Python 3.7.3 64-bit ('base': conda)",
   "language": "python",
   "name": "python37364bitbasecondabd88c407e14c40be84e83b5bdd135b46"
  },
  "language_info": {
   "codemirror_mode": {
    "name": "ipython",
    "version": 3
   },
   "file_extension": ".py",
   "mimetype": "text/x-python",
   "name": "python",
   "nbconvert_exporter": "python",
   "pygments_lexer": "ipython3",
   "version": "3.7.0-final"
  }
 },
 "nbformat": 4,
 "nbformat_minor": 1
}